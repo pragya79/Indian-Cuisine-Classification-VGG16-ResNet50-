{
  "cells": [
    {
      "cell_type": "code",
      "execution_count": 31,
      "metadata": {
        "colab": {
          "base_uri": "https://localhost:8080/"
        },
        "id": "LvHnPqjgRuGG",
        "outputId": "e266a0f9-ccd0-4ccd-b495-b31ff090277a"
      },
      "outputs": [
        {
          "output_type": "stream",
          "name": "stdout",
          "text": [
            "Drive already mounted at /content/drive; to attempt to forcibly remount, call drive.mount(\"/content/drive\", force_remount=True).\n"
          ]
        }
      ],
      "source": [
        "from google.colab import drive\n",
        "drive.mount('/content/drive')"
      ]
    },
    {
      "cell_type": "code",
      "execution_count": 32,
      "metadata": {
        "colab": {
          "base_uri": "https://localhost:8080/"
        },
        "id": "MjE-qDDtTtQL",
        "outputId": "c0011d08-c978-4d5e-c178-71cec4c8af50"
      },
      "outputs": [
        {
          "output_type": "stream",
          "name": "stdout",
          "text": [
            "Mon Jul  8 05:24:39 2024       \n",
            "+---------------------------------------------------------------------------------------+\n",
            "| NVIDIA-SMI 535.104.05             Driver Version: 535.104.05   CUDA Version: 12.2     |\n",
            "|-----------------------------------------+----------------------+----------------------+\n",
            "| GPU  Name                 Persistence-M | Bus-Id        Disp.A | Volatile Uncorr. ECC |\n",
            "| Fan  Temp   Perf          Pwr:Usage/Cap |         Memory-Usage | GPU-Util  Compute M. |\n",
            "|                                         |                      |               MIG M. |\n",
            "|=========================================+======================+======================|\n",
            "|   0  Tesla T4                       Off | 00000000:00:04.0 Off |                    0 |\n",
            "| N/A   60C    P0              29W /  70W |   8315MiB / 15360MiB |      0%      Default |\n",
            "|                                         |                      |                  N/A |\n",
            "+-----------------------------------------+----------------------+----------------------+\n",
            "                                                                                         \n",
            "+---------------------------------------------------------------------------------------+\n",
            "| Processes:                                                                            |\n",
            "|  GPU   GI   CI        PID   Type   Process name                            GPU Memory |\n",
            "|        ID   ID                                                             Usage      |\n",
            "|=======================================================================================|\n",
            "+---------------------------------------------------------------------------------------+\n"
          ]
        }
      ],
      "source": [
        "!nvidia-smi"
      ]
    },
    {
      "cell_type": "code",
      "execution_count": 33,
      "metadata": {
        "id": "BHv5PZOIUo1r"
      },
      "outputs": [],
      "source": [
        "import os\n",
        "path='/content/drive/MyDrive/reduced_dataset'"
      ]
    },
    {
      "cell_type": "code",
      "execution_count": 34,
      "metadata": {
        "id": "ONAkYDbixk6r"
      },
      "outputs": [],
      "source": [
        "#removing corrupted images\n",
        "from PIL import Image\n",
        "\n",
        "def check_images(directory):\n",
        "    for root, _, files in os.walk(directory):\n",
        "        for file in files:\n",
        "            file_path = os.path.join(root, file)\n",
        "            try:\n",
        "                img = Image.open(file_path)\n",
        "                img.verify()\n",
        "            except (IOError, SyntaxError) as e:\n",
        "                print(f\"Bad file: {file_path}\")\n",
        "                os.remove(file_path)  # Remove the corrupted file\n",
        "\n",
        "# Check and clean your dataset directory\n",
        "dataset_path = '/content/drive/MyDrive/reduced_dataset'\n",
        "check_images(dataset_path)\n"
      ]
    },
    {
      "cell_type": "code",
      "execution_count": 35,
      "metadata": {
        "id": "pvplADtolL2z"
      },
      "outputs": [],
      "source": [
        "import tensorflow as tf\n",
        "from tensorflow import keras"
      ]
    },
    {
      "cell_type": "code",
      "execution_count": 36,
      "metadata": {
        "id": "gZPcd1n5lTsA"
      },
      "outputs": [],
      "source": [
        "from tensorflow.keras.preprocessing.image import ImageDataGenerator"
      ]
    },
    {
      "cell_type": "code",
      "execution_count": 37,
      "metadata": {
        "id": "EMS8saUZlkNt"
      },
      "outputs": [],
      "source": [
        "train_data=ImageDataGenerator(\n",
        "    rescale=1./255,\n",
        "    shear_range=0.2,\n",
        "    zoom_range=0.2,\n",
        "    horizontal_flip=True,\n",
        "    validation_split=0.2\n",
        ")"
      ]
    },
    {
      "cell_type": "code",
      "execution_count": 38,
      "metadata": {
        "colab": {
          "base_uri": "https://localhost:8080/"
        },
        "id": "nh793uqdmGF3",
        "outputId": "6131ccc5-9571-4a8c-f95a-2f0fe2dda662"
      },
      "outputs": [
        {
          "output_type": "stream",
          "name": "stdout",
          "text": [
            "Found 955 images belonging to 4 classes.\n"
          ]
        }
      ],
      "source": [
        "train_gen=train_data.flow_from_directory(\n",
        "    path,\n",
        "    target_size=(224,224),\n",
        "    class_mode='categorical',\n",
        "    batch_size=32,\n",
        "    subset='training',\n",
        "    shuffle=True\n",
        ")"
      ]
    },
    {
      "cell_type": "code",
      "execution_count": 39,
      "metadata": {
        "colab": {
          "base_uri": "https://localhost:8080/"
        },
        "id": "xWTlrVUUmjaL",
        "outputId": "b3fac18b-dbcb-4bf2-8407-31caf410fa63"
      },
      "outputs": [
        {
          "output_type": "stream",
          "name": "stdout",
          "text": [
            "Found 237 images belonging to 4 classes.\n"
          ]
        }
      ],
      "source": [
        "validation_gen=train_data.flow_from_directory(\n",
        "    path,\n",
        "    target_size=(224,224),\n",
        "    class_mode='categorical',\n",
        "    batch_size=32,\n",
        "    subset='validation',\n",
        "    shuffle=True\n",
        ")"
      ]
    },
    {
      "cell_type": "code",
      "execution_count": 40,
      "metadata": {
        "colab": {
          "base_uri": "https://localhost:8080/"
        },
        "id": "eGsC6MLswdG7",
        "outputId": "15ee576e-6ef8-4457-87f1-34af1e135380"
      },
      "outputs": [
        {
          "output_type": "stream",
          "name": "stdout",
          "text": [
            "{'East Indian Cuisine': 0, 'North Indian Cusine': 1, 'South Indian Cuisine': 2, 'West Indian Cuisine': 3}\n",
            "{'East Indian Cuisine': 0, 'North Indian Cusine': 1, 'South Indian Cuisine': 2, 'West Indian Cuisine': 3}\n"
          ]
        }
      ],
      "source": [
        "print(train_gen.class_indices)\n",
        "print(validation_gen.class_indices)\n"
      ]
    },
    {
      "cell_type": "code",
      "execution_count": 41,
      "metadata": {
        "id": "x-pnXtwNm2fe"
      },
      "outputs": [],
      "source": [
        "from tensorflow.keras import layers,models\n",
        "from tensorflow.keras.applications import VGG16"
      ]
    },
    {
      "cell_type": "code",
      "execution_count": 42,
      "metadata": {
        "id": "o6VSU0pZoLyK"
      },
      "outputs": [],
      "source": [
        "reference_model=VGG16(weights='imagenet',include_top=False, input_shape=(224, 224, 3))"
      ]
    },
    {
      "cell_type": "code",
      "execution_count": 43,
      "metadata": {
        "id": "2w4oxYmRkJFt"
      },
      "outputs": [],
      "source": [
        "# freezing the layers\n",
        "for layer in reference_model.layers:\n",
        "    layer.trainable=False"
      ]
    },
    {
      "cell_type": "code",
      "execution_count": 44,
      "metadata": {
        "id": "BsvN3tsOnY9d"
      },
      "outputs": [],
      "source": [
        "model=models.Sequential([\n",
        "    reference_model,\n",
        "    layers.Flatten(),\n",
        "    layers.Dense(units=256,activation='relu'),\n",
        "    layers.Dropout(0.5),\n",
        "    layers.Dense(units=4,activation='softmax')\n",
        "])"
      ]
    },
    {
      "cell_type": "code",
      "execution_count": 45,
      "metadata": {
        "id": "EQfkTlXQoh_c"
      },
      "outputs": [],
      "source": [
        "model.compile(\n",
        "    optimizer=tf.keras.optimizers.Adam(learning_rate=0.01),\n",
        "    loss='categorical_crossentropy',\n",
        "    metrics=['accuracy']\n",
        "\n",
        ")"
      ]
    },
    {
      "cell_type": "code",
      "execution_count": 46,
      "metadata": {
        "id": "1ANqdjawEhsi",
        "colab": {
          "base_uri": "https://localhost:8080/"
        },
        "outputId": "4c17c23a-6e44-470d-a3f8-a447465b5237"
      },
      "outputs": [
        {
          "output_type": "stream",
          "name": "stdout",
          "text": [
            "<keras.src.layers.pooling.max_pooling2d.MaxPooling2D object at 0x7a6ccdf41e40> False\n"
          ]
        }
      ],
      "source": [
        "print(layer,layer.trainable)"
      ]
    },
    {
      "cell_type": "code",
      "execution_count": 48,
      "metadata": {
        "colab": {
          "base_uri": "https://localhost:8080/"
        },
        "id": "L9b9XH3FpBDf",
        "outputId": "8abf5d00-37d2-4d6c-e639-23b92f5dbda8"
      },
      "outputs": [
        {
          "output_type": "stream",
          "name": "stdout",
          "text": [
            "Epoch 1/10\n",
            "30/30 [==============================] - 56s 2s/step - loss: 16.1453 - accuracy: 0.4314 - val_loss: 1.2303 - val_accuracy: 0.5148\n",
            "Epoch 2/10\n",
            "30/30 [==============================] - 28s 961ms/step - loss: 1.2076 - accuracy: 0.5518 - val_loss: 1.1501 - val_accuracy: 0.5443\n",
            "Epoch 3/10\n",
            "30/30 [==============================] - 26s 878ms/step - loss: 1.1302 - accuracy: 0.5414 - val_loss: 1.0952 - val_accuracy: 0.5443\n",
            "Epoch 4/10\n",
            "30/30 [==============================] - 24s 807ms/step - loss: 1.0107 - accuracy: 0.5675 - val_loss: 1.0196 - val_accuracy: 0.5401\n",
            "Epoch 5/10\n",
            "30/30 [==============================] - 23s 770ms/step - loss: 0.9822 - accuracy: 0.5738 - val_loss: 1.0512 - val_accuracy: 0.5485\n",
            "Epoch 6/10\n",
            "30/30 [==============================] - 25s 823ms/step - loss: 0.9215 - accuracy: 0.5843 - val_loss: 1.0455 - val_accuracy: 0.5443\n",
            "Epoch 7/10\n",
            "30/30 [==============================] - 24s 798ms/step - loss: 0.9221 - accuracy: 0.5843 - val_loss: 1.1063 - val_accuracy: 0.5105\n",
            "Epoch 8/10\n",
            "30/30 [==============================] - 23s 777ms/step - loss: 0.9127 - accuracy: 0.5979 - val_loss: 1.0594 - val_accuracy: 0.5401\n",
            "Epoch 9/10\n",
            "30/30 [==============================] - 24s 810ms/step - loss: 0.9685 - accuracy: 0.5832 - val_loss: 1.0237 - val_accuracy: 0.5696\n",
            "Epoch 10/10\n",
            "30/30 [==============================] - 24s 791ms/step - loss: 0.9583 - accuracy: 0.5822 - val_loss: 1.0384 - val_accuracy: 0.5570\n"
          ]
        }
      ],
      "source": [
        "trained_model=model.fit(\n",
        "    train_gen,\n",
        "    epochs=10,\n",
        "    validation_data=validation_gen,\n",
        "    steps_per_epoch=len(train_gen),\n",
        "    validation_steps=len(validation_gen)\n",
        ")"
      ]
    },
    {
      "cell_type": "markdown",
      "metadata": {
        "id": "223iPqNnBSgb"
      },
      "source": [
        "**Saving the Model as .h5 file**"
      ]
    },
    {
      "cell_type": "code",
      "execution_count": 49,
      "metadata": {
        "colab": {
          "base_uri": "https://localhost:8080/"
        },
        "id": "MISZonvS8fDS",
        "outputId": "c1479129-2d73-4392-fa6b-3f34e43e9101"
      },
      "outputs": [
        {
          "output_type": "stream",
          "name": "stderr",
          "text": [
            "/usr/local/lib/python3.10/dist-packages/keras/src/engine/training.py:3103: UserWarning: You are saving your model as an HDF5 file via `model.save()`. This file format is considered legacy. We recommend using instead the native Keras format, e.g. `model.save('my_model.keras')`.\n",
            "  saving_api.save_model(\n"
          ]
        }
      ],
      "source": [
        "saved_model=model.save('/content/drive/MyDrive/saved_model/classifier.h5')"
      ]
    },
    {
      "cell_type": "code",
      "source": [
        "from keras.models import load_model\n",
        "model = load_model('/content/drive/MyDrive/saved_model/classifier.h5')"
      ],
      "metadata": {
        "id": "ZTDe-4cBslUK"
      },
      "execution_count": 50,
      "outputs": []
    },
    {
      "cell_type": "code",
      "execution_count": 51,
      "metadata": {
        "colab": {
          "base_uri": "https://localhost:8080/"
        },
        "id": "yogzlMq7nDfg",
        "outputId": "bb3e2806-8a04-4060-edb9-de0fa0b73a24"
      },
      "outputs": [
        {
          "output_type": "stream",
          "name": "stdout",
          "text": [
            "Model: \"sequential_1\"\n",
            "_________________________________________________________________\n",
            " Layer (type)                Output Shape              Param #   \n",
            "=================================================================\n",
            " vgg16 (Functional)          (None, 7, 7, 512)         14714688  \n",
            "                                                                 \n",
            " flatten_1 (Flatten)         (None, 25088)             0         \n",
            "                                                                 \n",
            " dense_2 (Dense)             (None, 256)               6422784   \n",
            "                                                                 \n",
            " dropout_1 (Dropout)         (None, 256)               0         \n",
            "                                                                 \n",
            " dense_3 (Dense)             (None, 4)                 1028      \n",
            "                                                                 \n",
            "=================================================================\n",
            "Total params: 21138500 (80.64 MB)\n",
            "Trainable params: 6423812 (24.50 MB)\n",
            "Non-trainable params: 14714688 (56.13 MB)\n",
            "_________________________________________________________________\n"
          ]
        }
      ],
      "source": [
        "model.summary()"
      ]
    },
    {
      "cell_type": "code",
      "execution_count": 52,
      "metadata": {
        "colab": {
          "base_uri": "https://localhost:8080/"
        },
        "id": "SFIXm9At4dRm",
        "outputId": "8a109459-5f2f-4de1-a3e2-3df12af6fd06"
      },
      "outputs": [
        {
          "output_type": "stream",
          "name": "stdout",
          "text": [
            "8/8 [==============================] - 6s 746ms/step\n"
          ]
        }
      ],
      "source": [
        "y_predict=model.predict(validation_gen)"
      ]
    },
    {
      "cell_type": "code",
      "execution_count": 53,
      "metadata": {
        "colab": {
          "base_uri": "https://localhost:8080/"
        },
        "id": "K8fZLDV74rhl",
        "outputId": "3a5b91e8-e4b1-4665-c51d-5a8dd89faafb"
      },
      "outputs": [
        {
          "output_type": "stream",
          "name": "stdout",
          "text": [
            "8/8 [==============================] - 5s 624ms/step - loss: 1.0501 - accuracy: 0.5781\n"
          ]
        },
        {
          "output_type": "execute_result",
          "data": {
            "text/plain": [
              "[1.0501434803009033, 0.5780590772628784]"
            ]
          },
          "metadata": {},
          "execution_count": 53
        }
      ],
      "source": [
        "model.evaluate(validation_gen)"
      ]
    },
    {
      "cell_type": "code",
      "execution_count": 54,
      "metadata": {
        "colab": {
          "base_uri": "https://localhost:8080/"
        },
        "id": "ajqLlw0a4xH9",
        "outputId": "cbcaf8e3-755b-446c-aaf7-9fd0b290005c"
      },
      "outputs": [
        {
          "output_type": "stream",
          "name": "stdout",
          "text": [
            "              precision    recall  f1-score   support\n",
            "\n",
            "           0       0.00      0.00      0.00        30\n",
            "           1       0.56      0.91      0.69       131\n",
            "           2       0.00      0.00      0.00        18\n",
            "           3       0.17      0.07      0.10        58\n",
            "\n",
            "    accuracy                           0.52       237\n",
            "   macro avg       0.18      0.24      0.20       237\n",
            "weighted avg       0.35      0.52      0.41       237\n",
            "\n"
          ]
        },
        {
          "output_type": "stream",
          "name": "stderr",
          "text": [
            "/usr/local/lib/python3.10/dist-packages/sklearn/metrics/_classification.py:1344: UndefinedMetricWarning: Precision and F-score are ill-defined and being set to 0.0 in labels with no predicted samples. Use `zero_division` parameter to control this behavior.\n",
            "  _warn_prf(average, modifier, msg_start, len(result))\n",
            "/usr/local/lib/python3.10/dist-packages/sklearn/metrics/_classification.py:1344: UndefinedMetricWarning: Precision and F-score are ill-defined and being set to 0.0 in labels with no predicted samples. Use `zero_division` parameter to control this behavior.\n",
            "  _warn_prf(average, modifier, msg_start, len(result))\n",
            "/usr/local/lib/python3.10/dist-packages/sklearn/metrics/_classification.py:1344: UndefinedMetricWarning: Precision and F-score are ill-defined and being set to 0.0 in labels with no predicted samples. Use `zero_division` parameter to control this behavior.\n",
            "  _warn_prf(average, modifier, msg_start, len(result))\n"
          ]
        }
      ],
      "source": [
        "from sklearn.metrics import classification_report\n",
        "y_true=validation_gen.classes\n",
        "print(classification_report(y_true,y_predict.argmax(axis=1)))"
      ]
    },
    {
      "cell_type": "code",
      "execution_count": 55,
      "metadata": {
        "id": "So52oFW05Fpm"
      },
      "outputs": [],
      "source": [
        "#ploting epoch vs val_acc & epoch vs val_loss graph\n",
        "import matplotlib.pyplot as plt\n",
        "training_loss=trained_model.history['loss']\n",
        "test_loss=trained_model.history['val_loss']\n",
        "training_acc=trained_model.history['accuracy']\n",
        "test_acc=trained_model.history['val_accuracy']\n",
        "epochs=range(len(training_loss))"
      ]
    },
    {
      "cell_type": "code",
      "execution_count": 56,
      "metadata": {
        "colab": {
          "base_uri": "https://localhost:8080/",
          "height": 452
        },
        "id": "Zd89UfUUAHTB",
        "outputId": "53aad2c3-29db-451f-eb8c-fe95b6f8311a"
      },
      "outputs": [
        {
          "output_type": "display_data",
          "data": {
            "text/plain": [
              "<Figure size 640x480 with 1 Axes>"
            ],
            "image/png": "[encoded data removed]"
          },
          "metadata": {}
        }
      ],
      "source": [
        "\n",
        "plt.title('epoch vs loss')\n",
        "plt.plot(epochs,training_loss,label='training_loss')\n",
        "plt.plot(epochs,test_loss,label='test_loss')\n",
        "plt.legend()\n",
        "plt.show()\n"
      ]
    },
    {
      "cell_type": "code",
      "execution_count": 57,
      "metadata": {
        "colab": {
          "base_uri": "https://localhost:8080/",
          "height": 452
        },
        "id": "gkm_PPDcBoez",
        "outputId": "a9ab03af-2f34-48f2-9b92-eb49540d095b"
      },
      "outputs": [
        {
          "output_type": "display_data",
          "data": {
            "text/plain": [
              "<Figure size 640x480 with 1 Axes>"
            ],
            "image/png": "[encoded data removed]"
          },
          "metadata": {}
        }
      ],
      "source": [
        "\n",
        "plt.title('epoch vs acc')\n",
        "plt.plot(epochs,training_acc,label='training_acc')\n",
        "plt.plot(epochs,test_acc,label='test_acc')\n",
        "plt.legend()\n",
        "plt.show()"
      ]
    },
    {
      "cell_type": "markdown",
      "metadata": {
        "id": "fF8_VBcpFwYN"
      },
      "source": [
        "Using the Saved model to predict new images as one of the classes"
      ]
    },
    {
      "cell_type": "code",
      "execution_count": 58,
      "metadata": {
        "id": "68wi25E6F3Ue"
      },
      "outputs": [],
      "source": [
        "from keras.preprocessing import image\n",
        "from keras.models import load_model\n",
        "import numpy as np\n",
        "#function to predict images\n",
        "def predict_image(image_path,saved_model):\n",
        "  img=image.load_img(image_path,target_size=(224,224))\n",
        "  img=image.img_to_array(img)\n",
        "  img=img/255.0\n",
        "\n",
        "  img=np.expand_dims(img,axis=0)\n",
        "\n",
        "  prediction=saved_model.predict(img)\n",
        "  classes=['North_Indian','East_Indian','West_Indian','South_Indian']\n",
        "  predicted_class=classes[np.argmax(prediction)]\n",
        "\n",
        "  return predicted_class\n",
        "\n"
      ]
    },
    {
      "cell_type": "code",
      "execution_count": 59,
      "metadata": {
        "id": "xkGkoTILG6Lp",
        "colab": {
          "base_uri": "https://localhost:8080/"
        },
        "outputId": "d29121a1-7198-4ba3-9616-1b6ee14e16f1"
      },
      "outputs": [
        {
          "output_type": "stream",
          "name": "stdout",
          "text": [
            "1/1 [==============================] - 0s 140ms/step\n",
            "East_Indian\n"
          ]
        }
      ],
      "source": [
        "saved_model=load_model('/content/drive/MyDrive/saved_model/classifier.h5')\n",
        "image_path='/content/drive/MyDrive/new.jfif'\n",
        "predicted_class=predict_image(image_path,saved_model)\n",
        "print(predicted_class)"
      ]
    },
    {
      "cell_type": "code",
      "source": [],
      "metadata": {
        "id": "NJys1raE1jWa"
      },
      "execution_count": null,
      "outputs": []
    }
  ],
  "metadata": {
    "accelerator": "GPU",
    "colab": {
      "gpuType": "T4",
      "toc_visible": true,
      "provenance": []
    },
    "kernelspec": {
      "display_name": "Python 3",
      "name": "python3"
    },
    "language_info": {
      "name": "python"
    }
  },
  "nbformat": 4,
  "nbformat_minor": 0
}