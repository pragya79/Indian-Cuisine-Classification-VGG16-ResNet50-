{
  "cells": [
    {
      "cell_type": "markdown",
      "metadata": {
        "id": "view-in-github",
        "colab_type": "text"
      },
      "source": [
        "<a href=\"https://colab.research.google.com/github/pragya79/VGG16-Classifier/blob/main/IndianCuisineClassifier%20(ResNet50).ipynb\" target=\"_parent\"><img src=\"https://colab.research.google.com/assets/colab-badge.svg\" alt=\"Open In Colab\"/></a>"
      ]
    },
    {
      "cell_type": "code",
      "execution_count": 216,
      "metadata": {
        "colab": {
          "base_uri": "https://localhost:8080/"
        },
        "id": "LvHnPqjgRuGG",
        "outputId": "80c020b5-24e4-4fc8-95ae-703951f53203"
      },
      "outputs": [
        {
          "output_type": "stream",
          "name": "stdout",
          "text": [
            "Drive already mounted at /content/drive; to attempt to forcibly remount, call drive.mount(\"/content/drive\", force_remount=True).\n"
          ]
        }
      ],
      "source": [
        "from google.colab import drive\n",
        "drive.mount('/content/drive')"
      ]
    },
    {
      "cell_type": "code",
      "execution_count": 217,
      "metadata": {
        "colab": {
          "base_uri": "https://localhost:8080/"
        },
        "id": "MjE-qDDtTtQL",
        "outputId": "581f09f3-7606-45a2-9e31-d05de160867b"
      },
      "outputs": [
        {
          "output_type": "stream",
          "name": "stdout",
          "text": [
            "Mon Jul 15 05:03:30 2024       \n",
            "+---------------------------------------------------------------------------------------+\n",
            "| NVIDIA-SMI 535.104.05             Driver Version: 535.104.05   CUDA Version: 12.2     |\n",
            "|-----------------------------------------+----------------------+----------------------+\n",
            "| GPU  Name                 Persistence-M | Bus-Id        Disp.A | Volatile Uncorr. ECC |\n",
            "| Fan  Temp   Perf          Pwr:Usage/Cap |         Memory-Usage | GPU-Util  Compute M. |\n",
            "|                                         |                      |               MIG M. |\n",
            "|=========================================+======================+======================|\n",
            "|   0  Tesla T4                       Off | 00000000:00:04.0 Off |                    0 |\n",
            "| N/A   77C    P0              30W /  70W |   8317MiB / 15360MiB |      0%      Default |\n",
            "|                                         |                      |                  N/A |\n",
            "+-----------------------------------------+----------------------+----------------------+\n",
            "                                                                                         \n",
            "+---------------------------------------------------------------------------------------+\n",
            "| Processes:                                                                            |\n",
            "|  GPU   GI   CI        PID   Type   Process name                            GPU Memory |\n",
            "|        ID   ID                                                             Usage      |\n",
            "|=======================================================================================|\n",
            "+---------------------------------------------------------------------------------------+\n"
          ]
        }
      ],
      "source": [
        "!nvidia-smi"
      ]
    },
    {
      "cell_type": "code",
      "execution_count": 365,
      "metadata": {
        "id": "BHv5PZOIUo1r"
      },
      "outputs": [],
      "source": [
        "import os\n",
        "path='/content/drive/MyDrive/reduced_dataset'"
      ]
    },
    {
      "cell_type": "code",
      "execution_count": 314,
      "metadata": {
        "id": "ONAkYDbixk6r"
      },
      "outputs": [],
      "source": [
        "#removing corrupted images\n",
        "from PIL import Image\n",
        "\n",
        "def check_images(directory):\n",
        "    for root, _, files in os.walk(directory):\n",
        "        for file in files:\n",
        "            file_path = os.path.join(root, file)\n",
        "            try:\n",
        "                img = Image.open(file_path)\n",
        "                img.verify()\n",
        "            except (IOError, SyntaxError) as e:\n",
        "                print(f\"Bad file: {file_path}\")\n",
        "                os.remove(file_path)  # Remove the corrupted file\n",
        "\n",
        "# Check and clean your dataset directory\n",
        "dataset_path = '/content/drive/MyDrive/images'\n",
        "check_images(dataset_path)\n"
      ]
    },
    {
      "cell_type": "code",
      "execution_count": 315,
      "metadata": {
        "id": "pvplADtolL2z"
      },
      "outputs": [],
      "source": [
        "import tensorflow as tf\n",
        "from tensorflow import keras"
      ]
    },
    {
      "cell_type": "code",
      "execution_count": 316,
      "metadata": {
        "id": "gZPcd1n5lTsA"
      },
      "outputs": [],
      "source": [
        "from tensorflow.keras.preprocessing.image import ImageDataGenerator"
      ]
    },
    {
      "cell_type": "markdown",
      "source": [
        "**DATA AUGMENTATION**"
      ],
      "metadata": {
        "id": "4w_JatlChLLS"
      }
    },
    {
      "cell_type": "code",
      "execution_count": 366,
      "metadata": {
        "id": "EMS8saUZlkNt"
      },
      "outputs": [],
      "source": [
        "train_datagen = ImageDataGenerator(\n",
        "    rescale=1./255,\n",
        "    rotation_range=20,\n",
        "    width_shift_range=0.2,\n",
        "    height_shift_range=0.2,\n",
        "    shear_range=0.2,\n",
        "    zoom_range=0.2,\n",
        "    horizontal_flip=True,\n",
        "    fill_mode='nearest',\n",
        "    validation_split=0.3\n",
        ")"
      ]
    },
    {
      "cell_type": "code",
      "execution_count": 367,
      "metadata": {
        "colab": {
          "base_uri": "https://localhost:8080/"
        },
        "id": "nh793uqdmGF3",
        "outputId": "dcace30e-6053-4e07-f64c-9589e77586da"
      },
      "outputs": [
        {
          "output_type": "stream",
          "name": "stdout",
          "text": [
            "Found 843 images belonging to 35 classes.\n"
          ]
        }
      ],
      "source": [
        "train_gen=train_datagen.flow_from_directory(\n",
        "    path,\n",
        "    target_size=(224,224),\n",
        "    class_mode='categorical',\n",
        "    batch_size=32,\n",
        "    subset='training',\n",
        "    shuffle=True\n",
        ")"
      ]
    },
    {
      "cell_type": "code",
      "execution_count": 368,
      "metadata": {
        "colab": {
          "base_uri": "https://localhost:8080/"
        },
        "id": "xWTlrVUUmjaL",
        "outputId": "7d98e510-160a-4680-cc3b-f536c1de1e95"
      },
      "outputs": [
        {
          "output_type": "stream",
          "name": "stdout",
          "text": [
            "Found 349 images belonging to 35 classes.\n"
          ]
        }
      ],
      "source": [
        "validation_gen=train_datagen.flow_from_directory(\n",
        "    path,\n",
        "    target_size=(224,224),\n",
        "    class_mode='categorical',\n",
        "    batch_size=32,\n",
        "    subset='validation',\n",
        "    shuffle=True\n",
        ")"
      ]
    },
    {
      "cell_type": "code",
      "execution_count": 369,
      "metadata": {
        "colab": {
          "base_uri": "https://localhost:8080/"
        },
        "id": "eGsC6MLswdG7",
        "outputId": "b16097c8-48b5-41b0-da82-e6d644d9d2e3"
      },
      "outputs": [
        {
          "output_type": "stream",
          "name": "stdout",
          "text": [
            "{'Aloo Puri': 0, 'Amritsari Kulcha': 1, 'Apong': 2, 'Babru': 3, 'Bhakarwadi': 4, 'Bhindi Masala': 5, 'Biryani': 6, 'Chhole Bhature': 7, 'Dabeli': 8, 'Dal Bati': 9, 'Dal Dhokli': 10, 'Dhokla': 11, 'Fafda-Jalebi': 12, 'Gatte ki Sabzi': 13, 'Ghevar': 14, 'Idli Dosa': 15, 'Khakra': 16, 'Khandvi': 17, 'Modak': 18, 'Naan': 19, 'Paneer Butter Masala': 20, 'Paneer Tikka': 21, 'Paratha': 22, 'Pav Bhaji': 23, 'Peda': 24, 'Rajma': 25, 'Rasgulla': 26, 'Rugra': 27, 'Sattu Paratha': 28, 'Sondesh': 29, 'Thekua': 30, 'Thukpa': 31, 'Tilkut': 32, 'Uttapam': 33, 'Vada Pav': 34}\n",
            "{'Aloo Puri': 0, 'Amritsari Kulcha': 1, 'Apong': 2, 'Babru': 3, 'Bhakarwadi': 4, 'Bhindi Masala': 5, 'Biryani': 6, 'Chhole Bhature': 7, 'Dabeli': 8, 'Dal Bati': 9, 'Dal Dhokli': 10, 'Dhokla': 11, 'Fafda-Jalebi': 12, 'Gatte ki Sabzi': 13, 'Ghevar': 14, 'Idli Dosa': 15, 'Khakra': 16, 'Khandvi': 17, 'Modak': 18, 'Naan': 19, 'Paneer Butter Masala': 20, 'Paneer Tikka': 21, 'Paratha': 22, 'Pav Bhaji': 23, 'Peda': 24, 'Rajma': 25, 'Rasgulla': 26, 'Rugra': 27, 'Sattu Paratha': 28, 'Sondesh': 29, 'Thekua': 30, 'Thukpa': 31, 'Tilkut': 32, 'Uttapam': 33, 'Vada Pav': 34}\n"
          ]
        }
      ],
      "source": [
        "print(train_gen.class_indices)\n",
        "print(validation_gen.class_indices)\n"
      ]
    },
    {
      "cell_type": "code",
      "source": [
        "# Verify the output shape of data generators\n",
        "batch_x, batch_y = next(train_gen)\n",
        "print(f\"Shape of batch_x: {batch_x.shape}\")\n",
        "print(f\"Shape of batch_y: {batch_y.shape}\")"
      ],
      "metadata": {
        "colab": {
          "base_uri": "https://localhost:8080/"
        },
        "id": "E5HNkV7isq_6",
        "outputId": "cd9ad3fe-02c0-46d9-cb07-447699499a12"
      },
      "execution_count": 325,
      "outputs": [
        {
          "output_type": "stream",
          "name": "stdout",
          "text": [
            "Shape of batch_x: (32, 224, 224, 3)\n",
            "Shape of batch_y: (32, 64)\n"
          ]
        }
      ]
    },
    {
      "cell_type": "code",
      "execution_count": 370,
      "metadata": {
        "id": "x-pnXtwNm2fe"
      },
      "outputs": [],
      "source": [
        "from tensorflow.keras import layers,models\n",
        "from tensorflow.keras.applications import ResNet50"
      ]
    },
    {
      "cell_type": "code",
      "execution_count": 371,
      "metadata": {
        "id": "o6VSU0pZoLyK"
      },
      "outputs": [],
      "source": [
        "reference_model=ResNet50(weights='imagenet',include_top=False, input_shape=(224, 224, 3))"
      ]
    },
    {
      "cell_type": "markdown",
      "source": [
        "**Tranfer Learning**"
      ],
      "metadata": {
        "id": "2GAa5IP3qrUA"
      }
    },
    {
      "cell_type": "code",
      "execution_count": 379,
      "metadata": {
        "id": "2w4oxYmRkJFt"
      },
      "outputs": [],
      "source": [
        "# freezing the layers\n",
        "for layer in reference_model.layers:\n",
        "    layer.trainable=False"
      ]
    },
    {
      "cell_type": "code",
      "execution_count": 380,
      "metadata": {
        "id": "BsvN3tsOnY9d"
      },
      "outputs": [],
      "source": [
        "model = models.Sequential([\n",
        "    reference_model,\n",
        "    layers.Flatten(),\n",
        "    layers.BatchNormalization(),\n",
        "    layers.Dense(units=256, activation='relu'),#kernel_regularizer=tf.keras.regularizers.l2(0.01)=> L2 Regularization to overcome the problem of Overfitting\n",
        "    layers.BatchNormalization(),\n",
        "    layers.Dropout(0.3),\n",
        "    layers.Dense(units=35, activation='softmax')\n",
        "])"
      ]
    },
    {
      "cell_type": "code",
      "source": [
        "early_stopping=tf.keras.callbacks.EarlyStopping(monitor='val_loss',patience=5,restore_best_weights=True)"
      ],
      "metadata": {
        "id": "yBBd3V2hk-cp"
      },
      "execution_count": 381,
      "outputs": []
    },
    {
      "cell_type": "code",
      "execution_count": 382,
      "metadata": {
        "id": "EQfkTlXQoh_c"
      },
      "outputs": [],
      "source": [
        "model.compile(\n",
        "    #as my model is overfitting i.e. gap b/w training accuracy and test accuracy is large hence using low learning rate\n",
        "    optimizer=tf.keras.optimizers.Adam(learning_rate=0.1),\n",
        "    loss='categorical_crossentropy',\n",
        "    metrics=['accuracy']\n",
        "\n",
        ")"
      ]
    },
    {
      "cell_type": "code",
      "execution_count": 383,
      "metadata": {
        "id": "1ANqdjawEhsi",
        "colab": {
          "base_uri": "https://localhost:8080/"
        },
        "outputId": "ae295adc-577f-4050-f752-9c4b8d33da7c"
      },
      "outputs": [
        {
          "output_type": "stream",
          "name": "stdout",
          "text": [
            "<keras.src.layers.core.activation.Activation object at 0x78df348e3430> False\n"
          ]
        }
      ],
      "source": [
        "print(layer,layer.trainable)"
      ]
    },
    {
      "cell_type": "markdown",
      "source": [
        "**Fine Tuning**"
      ],
      "metadata": {
        "id": "_AUY-_4kq4PD"
      }
    },
    {
      "cell_type": "code",
      "source": [
        "# Unfreezing some layers\n",
        "for layer in reference_model.layers[-4:]:  #last 4 layers are unfreezed now\n",
        "    layer.trainable = True\n",
        "\n",
        "model.compile(\n",
        "        tf.keras.optimizers.Adam(learning_rate=0.01),#taking lower learning_rate for fine tuning\n",
        "        loss='categorical_crossentropy',\n",
        "        metrics=['accuracy']\n",
        ")"
      ],
      "metadata": {
        "id": "yMOv7BsRq7Fh"
      },
      "execution_count": 384,
      "outputs": []
    },
    {
      "cell_type": "code",
      "source": [
        "print(layer,layer.trainable)"
      ],
      "metadata": {
        "colab": {
          "base_uri": "https://localhost:8080/"
        },
        "id": "f0PQNQswsBA2",
        "outputId": "fd978f1b-e60c-4261-d807-aa3c82ddfee1"
      },
      "execution_count": 385,
      "outputs": [
        {
          "output_type": "stream",
          "name": "stdout",
          "text": [
            "<keras.src.layers.core.activation.Activation object at 0x78df348e3430> True\n"
          ]
        }
      ]
    },
    {
      "cell_type": "code",
      "execution_count": 386,
      "metadata": {
        "colab": {
          "base_uri": "https://localhost:8080/"
        },
        "id": "L9b9XH3FpBDf",
        "outputId": "862d44e8-56c2-4ba7-f0b0-12b6d06ccf92"
      },
      "outputs": [
        {
          "output_type": "stream",
          "name": "stdout",
          "text": [
            "Epoch 1/20\n",
            "27/27 [==============================] - 43s 1s/step - loss: 4.8334 - accuracy: 0.0795 - val_loss: 312.6504 - val_accuracy: 0.0172\n",
            "Epoch 2/20\n",
            "27/27 [==============================] - 28s 1s/step - loss: 3.9099 - accuracy: 0.1103 - val_loss: 91.3636 - val_accuracy: 0.0143\n",
            "Epoch 3/20\n",
            "27/27 [==============================] - 26s 958ms/step - loss: 3.6409 - accuracy: 0.1234 - val_loss: 23.0968 - val_accuracy: 0.0716\n",
            "Epoch 4/20\n",
            "27/27 [==============================] - 25s 943ms/step - loss: 3.4438 - accuracy: 0.1281 - val_loss: 6.9127 - val_accuracy: 0.1289\n",
            "Epoch 5/20\n",
            "27/27 [==============================] - 25s 905ms/step - loss: 3.2597 - accuracy: 0.1673 - val_loss: 5.0779 - val_accuracy: 0.1003\n",
            "Epoch 6/20\n",
            "27/27 [==============================] - 26s 983ms/step - loss: 3.1809 - accuracy: 0.1601 - val_loss: 4.1168 - val_accuracy: 0.0946\n",
            "Epoch 7/20\n",
            "27/27 [==============================] - 26s 950ms/step - loss: 3.1363 - accuracy: 0.1483 - val_loss: 3.8400 - val_accuracy: 0.0888\n",
            "Epoch 8/20\n",
            "27/27 [==============================] - 25s 952ms/step - loss: 3.1084 - accuracy: 0.1435 - val_loss: 3.6625 - val_accuracy: 0.1203\n",
            "Epoch 9/20\n",
            "27/27 [==============================] - 25s 948ms/step - loss: 3.0351 - accuracy: 0.1613 - val_loss: 4.4554 - val_accuracy: 0.0745\n",
            "Epoch 10/20\n",
            "27/27 [==============================] - 26s 959ms/step - loss: 3.0137 - accuracy: 0.1400 - val_loss: 3.6278 - val_accuracy: 0.0888\n",
            "Epoch 11/20\n",
            "27/27 [==============================] - 24s 909ms/step - loss: 2.9617 - accuracy: 0.1756 - val_loss: 3.4439 - val_accuracy: 0.1318\n",
            "Epoch 12/20\n",
            "27/27 [==============================] - 25s 893ms/step - loss: 2.9341 - accuracy: 0.1661 - val_loss: 4.1284 - val_accuracy: 0.1089\n",
            "Epoch 13/20\n",
            "27/27 [==============================] - 28s 1s/step - loss: 2.8989 - accuracy: 0.1886 - val_loss: 3.9050 - val_accuracy: 0.1232\n",
            "Epoch 14/20\n",
            "27/27 [==============================] - 25s 948ms/step - loss: 2.8330 - accuracy: 0.2123 - val_loss: 4.5163 - val_accuracy: 0.1318\n",
            "Epoch 15/20\n",
            "27/27 [==============================] - 24s 881ms/step - loss: 2.8498 - accuracy: 0.1756 - val_loss: 4.0805 - val_accuracy: 0.0630\n",
            "Epoch 16/20\n",
            "27/27 [==============================] - 26s 961ms/step - loss: 2.8564 - accuracy: 0.1898 - val_loss: 4.0213 - val_accuracy: 0.0974\n",
            "Epoch 17/20\n",
            "27/27 [==============================] - 25s 946ms/step - loss: 2.7593 - accuracy: 0.2171 - val_loss: 4.2815 - val_accuracy: 0.0458\n",
            "Epoch 18/20\n",
            "27/27 [==============================] - 28s 1s/step - loss: 2.8451 - accuracy: 0.2028 - val_loss: 4.1935 - val_accuracy: 0.0458\n",
            "Epoch 19/20\n",
            "27/27 [==============================] - 25s 944ms/step - loss: 2.8100 - accuracy: 0.1922 - val_loss: 4.4153 - val_accuracy: 0.0630\n",
            "Epoch 20/20\n",
            "27/27 [==============================] - 28s 1s/step - loss: 2.7849 - accuracy: 0.2064 - val_loss: 3.9017 - val_accuracy: 0.0745\n"
          ]
        }
      ],
      "source": [
        "trained_model=model.fit(\n",
        "    train_gen,\n",
        "    epochs=20,\n",
        "    validation_data=validation_gen,\n",
        "    steps_per_epoch=len(train_gen),\n",
        "    validation_steps=len(validation_gen),\n",
        ")"
      ]
    },
    {
      "cell_type": "markdown",
      "metadata": {
        "id": "223iPqNnBSgb"
      },
      "source": [
        "**Saving the Model as .h5 file**"
      ]
    },
    {
      "cell_type": "code",
      "execution_count": 280,
      "metadata": {
        "colab": {
          "base_uri": "https://localhost:8080/"
        },
        "id": "MISZonvS8fDS",
        "outputId": "bc110833-c637-40b7-a5ba-9bfa8179ec5a"
      },
      "outputs": [
        {
          "output_type": "stream",
          "name": "stderr",
          "text": [
            "/usr/local/lib/python3.10/dist-packages/keras/src/engine/training.py:3103: UserWarning: You are saving your model as an HDF5 file via `model.save()`. This file format is considered legacy. We recommend using instead the native Keras format, e.g. `model.save('my_model.keras')`.\n",
            "  saving_api.save_model(\n"
          ]
        }
      ],
      "source": [
        "saved_model=model.save('/content/drive/MyDrive/saved_model/fineTunedClassifier.h5')"
      ]
    },
    {
      "cell_type": "code",
      "source": [
        "from keras.models import load_model\n",
        "model = load_model(saved_model)"
      ],
      "metadata": {
        "id": "ZTDe-4cBslUK"
      },
      "execution_count": 282,
      "outputs": []
    },
    {
      "cell_type": "code",
      "source": [
        "# model.fit(\n",
        "#     train_gen,\n",
        "#     epochs=20,\n",
        "#     validation_data=validation_gen,\n",
        "#     steps_per_epoch=len(train_gen),\n",
        "#     validation_steps=len(validation_gen),\n",
        "#     callbacks=[early_stopping]\n",
        "# )"
      ],
      "metadata": {
        "id": "2x5YxhMs4RJX"
      },
      "execution_count": 387,
      "outputs": []
    },
    {
      "cell_type": "code",
      "execution_count": 388,
      "metadata": {
        "colab": {
          "base_uri": "https://localhost:8080/"
        },
        "id": "yogzlMq7nDfg",
        "outputId": "2c654afe-4b38-4a94-8197-e205df1cd307"
      },
      "outputs": [
        {
          "output_type": "stream",
          "name": "stdout",
          "text": [
            "Model: \"sequential_35\"\n",
            "_________________________________________________________________\n",
            " Layer (type)                Output Shape              Param #   \n",
            "=================================================================\n",
            " resnet50 (Functional)       (None, 7, 7, 2048)        23587712  \n",
            "                                                                 \n",
            " flatten_35 (Flatten)        (None, 100352)            0         \n",
            "                                                                 \n",
            " batch_normalization_79 (Ba  (None, 100352)            401408    \n",
            " tchNormalization)                                               \n",
            "                                                                 \n",
            " dense_82 (Dense)            (None, 256)               25690368  \n",
            "                                                                 \n",
            " batch_normalization_80 (Ba  (None, 256)               1024      \n",
            " tchNormalization)                                               \n",
            "                                                                 \n",
            " dropout_35 (Dropout)        (None, 256)               0         \n",
            "                                                                 \n",
            " dense_83 (Dense)            (None, 35)                8995      \n",
            "                                                                 \n",
            "=================================================================\n",
            "Total params: 49689507 (189.55 MB)\n",
            "Trainable params: 26955299 (102.83 MB)\n",
            "Non-trainable params: 22734208 (86.72 MB)\n",
            "_________________________________________________________________\n"
          ]
        }
      ],
      "source": [
        "model.summary()"
      ]
    },
    {
      "cell_type": "code",
      "execution_count": 389,
      "metadata": {
        "colab": {
          "base_uri": "https://localhost:8080/"
        },
        "id": "SFIXm9At4dRm",
        "outputId": "f2b82aa0-f86f-4033-e15f-0ecd18243285"
      },
      "outputs": [
        {
          "output_type": "stream",
          "name": "stdout",
          "text": [
            "11/11 [==============================] - 8s 695ms/step\n"
          ]
        }
      ],
      "source": [
        "y_predict=model.predict(validation_gen)"
      ]
    },
    {
      "cell_type": "code",
      "execution_count": 390,
      "metadata": {
        "colab": {
          "base_uri": "https://localhost:8080/"
        },
        "id": "K8fZLDV74rhl",
        "outputId": "93fb42a0-09ac-435d-e652-6c5d0fdb558f"
      },
      "outputs": [
        {
          "output_type": "stream",
          "name": "stdout",
          "text": [
            "11/11 [==============================] - 7s 658ms/step - loss: 3.9248 - accuracy: 0.0774\n"
          ]
        },
        {
          "output_type": "execute_result",
          "data": {
            "text/plain": [
              "[3.9247846603393555, 0.07736389338970184]"
            ]
          },
          "metadata": {},
          "execution_count": 390
        }
      ],
      "source": [
        "model.evaluate(validation_gen)"
      ]
    },
    {
      "cell_type": "code",
      "execution_count": 391,
      "metadata": {
        "colab": {
          "base_uri": "https://localhost:8080/"
        },
        "id": "ajqLlw0a4xH9",
        "outputId": "b4542521-6e5a-45b3-d962-144c09fb5c78"
      },
      "outputs": [
        {
          "output_type": "stream",
          "name": "stdout",
          "text": [
            "              precision    recall  f1-score   support\n",
            "\n",
            "           0       0.00      0.00      0.00        27\n",
            "           1       0.00      0.00      0.00         6\n",
            "           2       0.00      0.00      0.00         3\n",
            "           3       0.00      0.00      0.00         6\n",
            "           4       0.00      0.00      0.00         6\n",
            "           5       0.00      0.00      0.00         6\n",
            "           6       0.00      0.00      0.00        10\n",
            "           7       0.00      0.00      0.00        27\n",
            "           8       0.00      0.00      0.00         6\n",
            "           9       0.00      0.00      0.00         7\n",
            "          10       0.00      0.00      0.00         6\n",
            "          11       0.00      0.00      0.00         7\n",
            "          12       0.00      0.00      0.00         6\n",
            "          13       0.00      0.00      0.00         6\n",
            "          14       0.00      0.00      0.00         6\n",
            "          15       0.00      0.00      0.00         8\n",
            "          16       0.00      0.00      0.00        10\n",
            "          17       0.00      0.00      0.00         6\n",
            "          18       0.07      0.12      0.09         8\n",
            "          19       0.00      0.00      0.00        10\n",
            "          20       0.00      0.00      0.00         6\n",
            "          21       0.06      0.55      0.11        22\n",
            "          22       0.00      0.00      0.00         9\n",
            "          23       0.00      0.00      0.00        32\n",
            "          24       0.00      0.00      0.00         9\n",
            "          25       0.06      0.06      0.06        35\n",
            "          26       0.00      0.00      0.00        10\n",
            "          27       0.00      0.00      0.00         1\n",
            "          28       0.00      0.00      0.00         6\n",
            "          29       0.00      0.00      0.00         6\n",
            "          30       0.00      0.00      0.00         6\n",
            "          31       0.00      0.00      0.00         6\n",
            "          32       0.00      0.00      0.00         6\n",
            "          33       0.00      0.00      0.00         8\n",
            "          34       0.00      0.00      0.00        10\n",
            "\n",
            "    accuracy                           0.04       349\n",
            "   macro avg       0.01      0.02      0.01       349\n",
            "weighted avg       0.01      0.04      0.02       349\n",
            "\n"
          ]
        },
        {
          "output_type": "stream",
          "name": "stderr",
          "text": [
            "/usr/local/lib/python3.10/dist-packages/sklearn/metrics/_classification.py:1344: UndefinedMetricWarning: Precision and F-score are ill-defined and being set to 0.0 in labels with no predicted samples. Use `zero_division` parameter to control this behavior.\n",
            "  _warn_prf(average, modifier, msg_start, len(result))\n",
            "/usr/local/lib/python3.10/dist-packages/sklearn/metrics/_classification.py:1344: UndefinedMetricWarning: Precision and F-score are ill-defined and being set to 0.0 in labels with no predicted samples. Use `zero_division` parameter to control this behavior.\n",
            "  _warn_prf(average, modifier, msg_start, len(result))\n",
            "/usr/local/lib/python3.10/dist-packages/sklearn/metrics/_classification.py:1344: UndefinedMetricWarning: Precision and F-score are ill-defined and being set to 0.0 in labels with no predicted samples. Use `zero_division` parameter to control this behavior.\n",
            "  _warn_prf(average, modifier, msg_start, len(result))\n"
          ]
        }
      ],
      "source": [
        "from sklearn.metrics import classification_report\n",
        "y_true=validation_gen.classes# 35 classes\n",
        "print(classification_report(y_true,y_predict.argmax(axis=1)))"
      ]
    },
    {
      "cell_type": "code",
      "source": [
        "import matplotlib.pyplot as plt"
      ],
      "metadata": {
        "id": "Qwu9JTDluSK8"
      },
      "execution_count": 392,
      "outputs": []
    },
    {
      "cell_type": "code",
      "execution_count": 393,
      "metadata": {
        "id": "So52oFW05Fpm"
      },
      "outputs": [],
      "source": [
        "\n",
        "training_loss=trained_model.history['loss']\n",
        "test_loss=trained_model.history['val_loss']#loss on validation dataset\n",
        "training_acc=trained_model.history['accuracy']#accuracy on training dataset\n",
        "test_acc=trained_model.history['val_accuracy']#accuracy on validation dataset\n",
        "epochs=range(len(training_loss))"
      ]
    },
    {
      "cell_type": "code",
      "execution_count": 394,
      "metadata": {
        "colab": {
          "base_uri": "https://localhost:8080/",
          "height": 452
        },
        "id": "Zd89UfUUAHTB",
        "outputId": "69997261-ac54-42b8-81e4-cf815de6df61"
      },
      "outputs": [
        {
          "output_type": "display_data",
          "data": {
            "text/plain": [
              "<Figure size 640x480 with 1 Axes>"
            ],
            "image/png": "[encoded data removed]"
          },
          "metadata": {}
        }
      ],
      "source": [
        "#ploting epoch vs training_loss & epoch vs test_loss graph\n",
        "\n",
        "plt.title('epoch vs loss')\n",
        "plt.plot(epochs,training_loss,label='training_loss')\n",
        "plt.plot(epochs,test_loss,label='test_loss')\n",
        "plt.legend()\n",
        "plt.show()\n"
      ]
    },
    {
      "cell_type": "code",
      "execution_count": 395,
      "metadata": {
        "colab": {
          "base_uri": "https://localhost:8080/",
          "height": 452
        },
        "id": "gkm_PPDcBoez",
        "outputId": "9d316db1-e1e1-4f8e-e7c0-caf16dcb3e3d"
      },
      "outputs": [
        {
          "output_type": "display_data",
          "data": {
            "text/plain": [
              "<Figure size 640x480 with 1 Axes>"
            ],
            "image/png": "[encoded data removed]"
          },
          "metadata": {}
        }
      ],
      "source": [
        "#ploting epoch vs tarining_acc & epoch vs test_acc graph\n",
        "plt.title('epoch vs acc')\n",
        "plt.plot(epochs,training_acc,label='training_acc')\n",
        "plt.plot(epochs,test_acc,label='test_acc')\n",
        "plt.legend()\n",
        "plt.show()"
      ]
    },
    {
      "cell_type": "markdown",
      "metadata": {
        "id": "fF8_VBcpFwYN"
      },
      "source": [
        "Using the Saved model to predict new images as one of the classes"
      ]
    },
    {
      "cell_type": "code",
      "execution_count": 397,
      "metadata": {
        "id": "68wi25E6F3Ue"
      },
      "outputs": [],
      "source": [
        "from keras.preprocessing import image\n",
        "from keras.models import load_model\n",
        "import numpy as np\n",
        "#function to predict images\n",
        "def predict_image(image_path,saved_model):\n",
        "  img=image.load_img(image_path,target_size=(224,224))\n",
        "  img=image.img_to_array(img)\n",
        "  img=img/255.0\n",
        "\n",
        "  img=np.expand_dims(img,axis=0)\n",
        "\n",
        "  prediction=saved_model.predict(img)\n",
        "  classes = ['Aloo Puri', 'Amritsari Kulcha', 'Apong', 'Babru', 'Bhakarwadi',\n",
        "             'Bhindi Masala', 'Biryani', 'Chhole Bhature', 'Dabeli', 'Dal Bati',\n",
        "             'Dal Dhokli', 'Dhokla', 'Fafda-Jalebi', 'Gatte ki Sabzi', 'Ghevar',\n",
        "             'Idli Dosa', 'Khakra', 'Khandvi', 'Modak', 'Naan', 'Paneer Butter Masala',\n",
        "             'Paneer Tikka', 'Paratha', 'Pav Bhaji', 'Peda', 'Rajma', 'Rasgulla',\n",
        "             'Rugra','Sattu Paratha', 'Sondesh', 'Thekua', 'Thukpa', 'Tilkut', 'Uttapam',\n",
        "             'Vada Pav']\n",
        "\n",
        "  predicted_class=classes[np.argmax(prediction)]\n",
        "\n",
        "  return predicted_class\n",
        "\n"
      ]
    },
    {
      "cell_type": "code",
      "execution_count": 399,
      "metadata": {
        "id": "xkGkoTILG6Lp",
        "colab": {
          "base_uri": "https://localhost:8080/"
        },
        "outputId": "6f161b6c-e097-438f-ead2-2a7f984fa456"
      },
      "outputs": [
        {
          "output_type": "stream",
          "name": "stdout",
          "text": [
            "1/1 [==============================] - 2s 2s/step\n",
            "Pav Bhaji\n"
          ]
        }
      ],
      "source": [
        "saved_model=load_model('/content/drive/MyDrive/saved_model/fineTunedClassifier.h5')\n",
        "image_path='/content/drive/MyDrive/new.jfif'\n",
        "predicted_class=predict_image(image_path,saved_model)\n",
        "print(predicted_class)"
      ]
    },
    {
      "cell_type": "code",
      "source": [],
      "metadata": {
        "id": "NJys1raE1jWa"
      },
      "execution_count": null,
      "outputs": []
    }
  ],
  "metadata": {
    "accelerator": "GPU",
    "colab": {
      "gpuType": "T4",
      "provenance": [],
      "mount_file_id": "1zKxVRj7aDFfb0q__3pQl2ohzVsxwBbcQ",
      "authorship_tag": "ABX9TyMhlYYq+bhkHfMnIxsfvTFk",
      "include_colab_link": true
    },
    "kernelspec": {
      "display_name": "Python 3",
      "name": "python3"
    },
    "language_info": {
      "name": "python"
    }
  },
  "nbformat": 4,
  "nbformat_minor": 0
}