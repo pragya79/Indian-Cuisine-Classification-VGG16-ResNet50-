{
  "cells": [
    {
      "cell_type": "code",
      "execution_count": null,
      "metadata": {
        "colab": {
          "base_uri": "https://localhost:8080/"
        },
        "id": "LvHnPqjgRuGG",
        "outputId": "b1801bb1-d765-40d9-cbf4-fd615a0f8a26"
      },
      "outputs": [
        {
          "name": "stdout",
          "output_type": "stream",
          "text": [
            "Drive already mounted at /content/drive; to attempt to forcibly remount, call drive.mount(\"/content/drive\", force_remount=True).\n"
          ]
        }
      ],
      "source": [
        "from google.colab import drive\n",
        "drive.mount('/content/drive')"
      ]
    },
    {
      "cell_type": "code",
      "execution_count": null,
      "metadata": {
        "colab": {
          "base_uri": "https://localhost:8080/"
        },
        "id": "MjE-qDDtTtQL",
        "outputId": "07dc1744-8ed8-44c1-b2b6-360bf3bcefc9"
      },
      "outputs": [
        {
          "name": "stdout",
          "output_type": "stream",
          "text": [
            "/bin/bash: line 1: nvidia-smi: command not found\n"
          ]
        }
      ],
      "source": [
        "!nvidia-smi"
      ]
    },
    {
      "cell_type": "code",
      "execution_count": 1,
      "metadata": {
        "id": "BHv5PZOIUo1r"
      },
      "outputs": [],
      "source": [
        "import os\n",
        "path='/content/drive/MyDrive/reduced_dataset'"
      ]
    },
    {
      "cell_type": "code",
      "execution_count": 3,
      "metadata": {
        "id": "ONAkYDbixk6r",
        "colab": {
          "base_uri": "https://localhost:8080/"
        },
        "outputId": "25b2f80c-9c97-4470-89f7-8f80f7c045ad"
      },
      "outputs": [
        {
          "output_type": "stream",
          "name": "stdout",
          "text": [
            "Bad file: /content/drive/MyDrive/reduced_dataset/North Indian Cusine/Aloo Puri/Webscrapping.ipynb\n",
            "Bad file: /content/drive/MyDrive/reduced_dataset/West Indian Cuisine/Modak/7.jpg\n"
          ]
        }
      ],
      "source": [
        "#removing corrupted images\n",
        "from PIL import Image\n",
        "\n",
        "def check_images(directory):\n",
        "    for root, _, files in os.walk(directory):\n",
        "        for file in files:\n",
        "            file_path = os.path.join(root, file)\n",
        "            try:\n",
        "                img = Image.open(file_path)\n",
        "                img.verify()\n",
        "            except (IOError, SyntaxError) as e:\n",
        "                print(f\"Bad file: {file_path}\")\n",
        "                os.remove(file_path)  # Remove the corrupted file\n",
        "\n",
        "# Check and clean your dataset directory\n",
        "dataset_path = '/content/drive/MyDrive/reduced_dataset'\n",
        "check_images(dataset_path)\n"
      ]
    },
    {
      "cell_type": "code",
      "execution_count": 4,
      "metadata": {
        "id": "pvplADtolL2z"
      },
      "outputs": [],
      "source": [
        "import tensorflow as tf\n",
        "from tensorflow import keras"
      ]
    },
    {
      "cell_type": "code",
      "execution_count": 5,
      "metadata": {
        "id": "gZPcd1n5lTsA"
      },
      "outputs": [],
      "source": [
        "from tensorflow.keras.preprocessing.image import ImageDataGenerator"
      ]
    },
    {
      "cell_type": "code",
      "execution_count": 12,
      "metadata": {
        "id": "EMS8saUZlkNt"
      },
      "outputs": [],
      "source": [
        "train_data=ImageDataGenerator(\n",
        "    rescale=1./255,\n",
        "    shear_range=0.2,\n",
        "    zoom_range=0.2,\n",
        "    horizontal_flip=True,\n",
        "    validation_split=0.2\n",
        ")"
      ]
    },
    {
      "cell_type": "code",
      "execution_count": 13,
      "metadata": {
        "colab": {
          "base_uri": "https://localhost:8080/"
        },
        "id": "nh793uqdmGF3",
        "outputId": "8a04280d-e007-4527-ea40-7b3ad27f93a5"
      },
      "outputs": [
        {
          "output_type": "stream",
          "name": "stdout",
          "text": [
            "Found 955 images belonging to 4 classes.\n"
          ]
        }
      ],
      "source": [
        "train_gen=train_data.flow_from_directory(\n",
        "    path,\n",
        "    target_size=(224,224),\n",
        "    class_mode='categorical',\n",
        "    batch_size=32,\n",
        "    subset='training',\n",
        "    shuffle=True\n",
        ")"
      ]
    },
    {
      "cell_type": "code",
      "execution_count": 14,
      "metadata": {
        "colab": {
          "base_uri": "https://localhost:8080/"
        },
        "id": "xWTlrVUUmjaL",
        "outputId": "68ad4354-2ed7-46fb-842a-ae053aa66c49"
      },
      "outputs": [
        {
          "output_type": "stream",
          "name": "stdout",
          "text": [
            "Found 237 images belonging to 4 classes.\n"
          ]
        }
      ],
      "source": [
        "validation_gen=train_data.flow_from_directory(\n",
        "    path,\n",
        "    target_size=(224,224),\n",
        "    class_mode='categorical',\n",
        "    batch_size=32,\n",
        "    subset='validation',\n",
        "    shuffle=True\n",
        ")"
      ]
    },
    {
      "cell_type": "code",
      "execution_count": 15,
      "metadata": {
        "colab": {
          "base_uri": "https://localhost:8080/"
        },
        "id": "eGsC6MLswdG7",
        "outputId": "305d507c-b5a9-419c-ce8f-ce96af49d6ff"
      },
      "outputs": [
        {
          "output_type": "stream",
          "name": "stdout",
          "text": [
            "{'East Indian Cuisine': 0, 'North Indian Cusine': 1, 'South Indian Cuisine': 2, 'West Indian Cuisine': 3}\n",
            "{'East Indian Cuisine': 0, 'North Indian Cusine': 1, 'South Indian Cuisine': 2, 'West Indian Cuisine': 3}\n"
          ]
        }
      ],
      "source": [
        "print(train_gen.class_indices)\n",
        "print(validation_gen.class_indices)\n"
      ]
    },
    {
      "cell_type": "code",
      "execution_count": 6,
      "metadata": {
        "id": "x-pnXtwNm2fe"
      },
      "outputs": [],
      "source": [
        "from tensorflow.keras import layers,models\n",
        "from tensorflow.keras.applications import VGG16"
      ]
    },
    {
      "cell_type": "code",
      "execution_count": 16,
      "metadata": {
        "colab": {
          "base_uri": "https://localhost:8080/"
        },
        "id": "o6VSU0pZoLyK",
        "outputId": "308cdde6-d7e0-413d-f450-18c7d56e7ee9"
      },
      "outputs": [
        {
          "output_type": "stream",
          "name": "stdout",
          "text": [
            "Downloading data from https://storage.googleapis.com/tensorflow/keras-applications/vgg16/vgg16_weights_tf_dim_ordering_tf_kernels_notop.h5\n",
            "58889256/58889256 [==============================] - 0s 0us/step\n"
          ]
        }
      ],
      "source": [
        "reference_model=VGG16(weights='imagenet',include_top=False, input_shape=(224, 224, 3))"
      ]
    },
    {
      "cell_type": "code",
      "execution_count": 17,
      "metadata": {
        "id": "2w4oxYmRkJFt"
      },
      "outputs": [],
      "source": [
        "# freezing the layers\n",
        "for layer in reference_model.layers:\n",
        "    layer.trainable=False"
      ]
    },
    {
      "cell_type": "code",
      "execution_count": 18,
      "metadata": {
        "id": "BsvN3tsOnY9d"
      },
      "outputs": [],
      "source": [
        "model=models.Sequential([\n",
        "    reference_model,\n",
        "    layers.Flatten(),\n",
        "    layers.Dense(units=256,activation='relu'),\n",
        "    layers.Dropout(0.5),\n",
        "    layers.Dense(units=4,activation='softmax')\n",
        "])"
      ]
    },
    {
      "cell_type": "code",
      "execution_count": 19,
      "metadata": {
        "id": "EQfkTlXQoh_c"
      },
      "outputs": [],
      "source": [
        "model.compile(\n",
        "    optimizer=tf.keras.optimizers.Adam(learning_rate=0.01),\n",
        "    loss='categorical_crossentropy',\n",
        "    metrics=['accuracy']\n",
        "\n",
        ")"
      ]
    },
    {
      "cell_type": "code",
      "execution_count": 20,
      "metadata": {
        "id": "1ANqdjawEhsi",
        "colab": {
          "base_uri": "https://localhost:8080/"
        },
        "outputId": "f91a43d5-2f4f-4499-8677-fb13520ed0d8"
      },
      "outputs": [
        {
          "output_type": "stream",
          "name": "stdout",
          "text": [
            "<keras.src.layers.pooling.max_pooling2d.MaxPooling2D object at 0x7a6d4c93f640> False\n"
          ]
        }
      ],
      "source": [
        "print(layer,layer.trainable)"
      ]
    },
    {
      "cell_type": "code",
      "execution_count": null,
      "metadata": {
        "colab": {
          "background_save": true,
          "base_uri": "https://localhost:8080/"
        },
        "id": "L9b9XH3FpBDf",
        "outputId": "2563b414-93a7-40e0-b32b-ef5251834a7a"
      },
      "outputs": [
        {
          "name": "stdout",
          "output_type": "stream",
          "text": [
            "Epoch 1/20\n",
            "42/42 [==============================] - 1085s 26s/step - loss: 1.0408 - accuracy: 0.5523 - val_loss: 1.1952 - val_accuracy: 0.5030\n",
            "Epoch 2/20\n",
            "42/42 [==============================] - 1158s 28s/step - loss: 1.0168 - accuracy: 0.5636 - val_loss: 1.2410 - val_accuracy: 0.4421\n",
            "Epoch 3/20\n",
            "42/42 [==============================] - 1128s 27s/step - loss: 0.9871 - accuracy: 0.5765 - val_loss: 1.2574 - val_accuracy: 0.3933\n",
            "Epoch 4/20\n",
            "42/42 [==============================] - 1123s 27s/step - loss: 0.9212 - accuracy: 0.5947 - val_loss: 1.2812 - val_accuracy: 0.4238\n",
            "Epoch 5/20\n",
            "42/42 [==============================] - ETA: 0s - loss: 0.9295 - accuracy: 0.6068 "
          ]
        }
      ],
      "source": [
        "trained_model=model.fit(\n",
        "    train_gen,\n",
        "    epochs=20,\n",
        "    validation_data=validation_gen,\n",
        "    steps_per_epoch=len(train_gen),\n",
        "    validation_steps=len(validation_gen)\n",
        ")"
      ]
    },
    {
      "cell_type": "markdown",
      "metadata": {
        "id": "223iPqNnBSgb"
      },
      "source": [
        "**Saving the Model as .h5 file**"
      ]
    },
    {
      "cell_type": "code",
      "execution_count": null,
      "metadata": {
        "colab": {
          "base_uri": "https://localhost:8080/"
        },
        "id": "MISZonvS8fDS",
        "outputId": "a5f838bf-f923-4cea-94e9-9d39e092f556"
      },
      "outputs": [
        {
          "name": "stderr",
          "output_type": "stream",
          "text": [
            "/usr/local/lib/python3.10/dist-packages/keras/src/engine/training.py:3103: UserWarning: You are saving your model as an HDF5 file via `model.save()`. This file format is considered legacy. We recommend using instead the native Keras format, e.g. `model.save('my_model.keras')`.\n",
            "  saving_api.save_model(\n"
          ]
        }
      ],
      "source": [
        "saved_model=model.save('/content/drive/MyDrive/saved_model/classifier.h5')"
      ]
    },
    {
      "cell_type": "code",
      "source": [
        "from keras.models import load_model\n",
        "model = load_model('/content/drive/MyDrive/saved_model/classifier.h5')"
      ],
      "metadata": {
        "id": "ZTDe-4cBslUK"
      },
      "execution_count": 21,
      "outputs": []
    },
    {
      "cell_type": "code",
      "execution_count": 22,
      "metadata": {
        "colab": {
          "base_uri": "https://localhost:8080/"
        },
        "id": "yogzlMq7nDfg",
        "outputId": "7033056e-6e37-44bf-d3d2-64d1ce79a808"
      },
      "outputs": [
        {
          "output_type": "stream",
          "name": "stdout",
          "text": [
            "Model: \"sequential\"\n",
            "_________________________________________________________________\n",
            " Layer (type)                Output Shape              Param #   \n",
            "=================================================================\n",
            " vgg16 (Functional)          (None, 7, 7, 512)         14714688  \n",
            "                                                                 \n",
            " flatten (Flatten)           (None, 25088)             0         \n",
            "                                                                 \n",
            " dense (Dense)               (None, 256)               6422784   \n",
            "                                                                 \n",
            " dropout (Dropout)           (None, 256)               0         \n",
            "                                                                 \n",
            " dense_1 (Dense)             (None, 4)                 1028      \n",
            "                                                                 \n",
            "=================================================================\n",
            "Total params: 21138500 (80.64 MB)\n",
            "Trainable params: 6423812 (24.50 MB)\n",
            "Non-trainable params: 14714688 (56.13 MB)\n",
            "_________________________________________________________________\n"
          ]
        }
      ],
      "source": [
        "model.summary()"
      ]
    },
    {
      "cell_type": "code",
      "execution_count": 23,
      "metadata": {
        "colab": {
          "base_uri": "https://localhost:8080/"
        },
        "id": "SFIXm9At4dRm",
        "outputId": "b5659b60-873e-4e43-db45-516a8c1ff3eb"
      },
      "outputs": [
        {
          "output_type": "stream",
          "name": "stdout",
          "text": [
            "8/8 [==============================] - 22s 2s/step\n"
          ]
        }
      ],
      "source": [
        "y_predict=model.predict(validation_gen)"
      ]
    },
    {
      "cell_type": "code",
      "execution_count": 24,
      "metadata": {
        "colab": {
          "base_uri": "https://localhost:8080/"
        },
        "id": "K8fZLDV74rhl",
        "outputId": "06339cca-85a4-4dfa-fe24-81d17d311083"
      },
      "outputs": [
        {
          "output_type": "stream",
          "name": "stdout",
          "text": [
            "8/8 [==============================] - 6s 624ms/step - loss: 1.0998 - accuracy: 0.5696\n"
          ]
        },
        {
          "output_type": "execute_result",
          "data": {
            "text/plain": [
              "[1.0998315811157227, 0.5696202516555786]"
            ]
          },
          "metadata": {},
          "execution_count": 24
        }
      ],
      "source": [
        "model.evaluate(validation_gen)"
      ]
    },
    {
      "cell_type": "code",
      "execution_count": 25,
      "metadata": {
        "colab": {
          "base_uri": "https://localhost:8080/"
        },
        "id": "ajqLlw0a4xH9",
        "outputId": "642039b3-8744-46ee-8cfe-c1f9a861561b"
      },
      "outputs": [
        {
          "output_type": "stream",
          "name": "stdout",
          "text": [
            "              precision    recall  f1-score   support\n",
            "\n",
            "           0       0.00      0.00      0.00        30\n",
            "           1       0.53      0.31      0.39       131\n",
            "           2       0.00      0.00      0.00        18\n",
            "           3       0.24      0.62      0.34        58\n",
            "\n",
            "    accuracy                           0.32       237\n",
            "   macro avg       0.19      0.23      0.18       237\n",
            "weighted avg       0.35      0.32      0.30       237\n",
            "\n"
          ]
        },
        {
          "output_type": "stream",
          "name": "stderr",
          "text": [
            "/usr/local/lib/python3.10/dist-packages/sklearn/metrics/_classification.py:1344: UndefinedMetricWarning: Precision and F-score are ill-defined and being set to 0.0 in labels with no predicted samples. Use `zero_division` parameter to control this behavior.\n",
            "  _warn_prf(average, modifier, msg_start, len(result))\n",
            "/usr/local/lib/python3.10/dist-packages/sklearn/metrics/_classification.py:1344: UndefinedMetricWarning: Precision and F-score are ill-defined and being set to 0.0 in labels with no predicted samples. Use `zero_division` parameter to control this behavior.\n",
            "  _warn_prf(average, modifier, msg_start, len(result))\n",
            "/usr/local/lib/python3.10/dist-packages/sklearn/metrics/_classification.py:1344: UndefinedMetricWarning: Precision and F-score are ill-defined and being set to 0.0 in labels with no predicted samples. Use `zero_division` parameter to control this behavior.\n",
            "  _warn_prf(average, modifier, msg_start, len(result))\n"
          ]
        }
      ],
      "source": [
        "from sklearn.metrics import classification_report\n",
        "y_true=validation_gen.classes\n",
        "print(classification_report(y_true,y_predict.argmax(axis=1)))"
      ]
    },
    {
      "cell_type": "code",
      "execution_count": 27,
      "metadata": {
        "id": "So52oFW05Fpm",
        "colab": {
          "base_uri": "https://localhost:8080/",
          "height": 211
        },
        "outputId": "74e24afc-2183-44c4-80ba-999d751fd4d0"
      },
      "outputs": [
        {
          "output_type": "error",
          "ename": "TypeError",
          "evalue": "'History' object is not subscriptable",
          "traceback": [
            "\u001b[0;31m---------------------------------------------------------------------------\u001b[0m",
            "\u001b[0;31mTypeError\u001b[0m                                 Traceback (most recent call last)",
            "\u001b[0;32m<ipython-input-27-2729522b65bc>\u001b[0m in \u001b[0;36m<cell line: 9>\u001b[0;34m()\u001b[0m\n\u001b[1;32m      7\u001b[0m \u001b[0;31m# epochs=range(len(training_loss))\u001b[0m\u001b[0;34m\u001b[0m\u001b[0;34m\u001b[0m\u001b[0m\n\u001b[1;32m      8\u001b[0m \u001b[0;32mimport\u001b[0m \u001b[0mmatplotlib\u001b[0m\u001b[0;34m.\u001b[0m\u001b[0mpyplot\u001b[0m \u001b[0;32mas\u001b[0m \u001b[0mplt\u001b[0m\u001b[0;34m\u001b[0m\u001b[0;34m\u001b[0m\u001b[0m\n\u001b[0;32m----> 9\u001b[0;31m \u001b[0mtraining_loss\u001b[0m\u001b[0;34m=\u001b[0m\u001b[0mmodel\u001b[0m\u001b[0;34m.\u001b[0m\u001b[0mhistory\u001b[0m\u001b[0;34m[\u001b[0m\u001b[0;34m'loss'\u001b[0m\u001b[0;34m]\u001b[0m\u001b[0;34m\u001b[0m\u001b[0;34m\u001b[0m\u001b[0m\n\u001b[0m\u001b[1;32m     10\u001b[0m \u001b[0mtest_loss\u001b[0m\u001b[0;34m=\u001b[0m\u001b[0mmodel\u001b[0m\u001b[0;34m.\u001b[0m\u001b[0mhistory\u001b[0m\u001b[0;34m[\u001b[0m\u001b[0;34m'val_loss'\u001b[0m\u001b[0;34m]\u001b[0m\u001b[0;34m\u001b[0m\u001b[0;34m\u001b[0m\u001b[0m\n\u001b[1;32m     11\u001b[0m \u001b[0mtraining_acc\u001b[0m\u001b[0;34m=\u001b[0m\u001b[0mmodel\u001b[0m\u001b[0;34m.\u001b[0m\u001b[0mhistory\u001b[0m\u001b[0;34m[\u001b[0m\u001b[0;34m'accuracy'\u001b[0m\u001b[0;34m]\u001b[0m\u001b[0;34m\u001b[0m\u001b[0;34m\u001b[0m\u001b[0m\n",
            "\u001b[0;31mTypeError\u001b[0m: 'History' object is not subscriptable"
          ]
        }
      ],
      "source": [
        "#ploting epoch vs val_acc & epoch vs val_loss graph\n",
        "import matplotlib.pyplot as plt\n",
        "training_loss=trained_model.history['loss']\n",
        "test_loss=trained_model.history['val_loss']\n",
        "training_acc=trained_model.history['accuracy']\n",
        "test_acc=trained_model.history['val_accuracy']\n",
        "epochs=range(len(training_loss))"
      ]
    },
    {
      "cell_type": "code",
      "execution_count": null,
      "metadata": {
        "colab": {
          "base_uri": "https://localhost:8080/",
          "height": 452
        },
        "id": "Zd89UfUUAHTB",
        "outputId": "250c7c56-52ac-411c-ffb4-bdcd718abe3d"
      },
      "outputs": [
        {
          "data": {
            "image/png": "[encoded data removed]",
            "text/plain": [
              "<Figure size 640x480 with 1 Axes>"
            ]
          },
          "metadata": {},
          "output_type": "display_data"
        }
      ],
      "source": [
        "\n",
        "plt.title('epoch vs loss')\n",
        "plt.plot(epochs,training_loss,label='training_loss')\n",
        "plt.plot(epochs,test_loss,label='test_loss')\n",
        "plt.legend()\n",
        "plt.show()\n"
      ]
    },
    {
      "cell_type": "code",
      "execution_count": null,
      "metadata": {
        "colab": {
          "base_uri": "https://localhost:8080/",
          "height": 452
        },
        "id": "gkm_PPDcBoez",
        "outputId": "c4a30a5e-cfe0-4b96-c21b-352ed7bbd3bc"
      },
      "outputs": [
        {
          "data": {
            "image/png": "[encoded data removed]",
            "text/plain": [
              "<Figure size 640x480 with 1 Axes>"
            ]
          },
          "metadata": {},
          "output_type": "display_data"
        }
      ],
      "source": [
        "\n",
        "plt.title('epoch vs acc')\n",
        "plt.plot(epochs,training_acc,label='training_acc')\n",
        "plt.plot(epochs,test_acc,label='test_acc')\n",
        "plt.legend()\n",
        "plt.show()"
      ]
    },
    {
      "cell_type": "markdown",
      "metadata": {
        "id": "fF8_VBcpFwYN"
      },
      "source": [
        "Using the Saved model to predict new images as one of the classes"
      ]
    },
    {
      "cell_type": "code",
      "execution_count": 28,
      "metadata": {
        "id": "68wi25E6F3Ue"
      },
      "outputs": [],
      "source": [
        "from keras.preprocessing import image\n",
        "from keras.models import load_model\n",
        "import numpy as np\n",
        "#function to predict images\n",
        "def predict_image(image_path,saved_model):\n",
        "  img=image.load_img(image_path,target_size=(224,224))\n",
        "  img=image.img_to_array(img)\n",
        "  img=img/255.0\n",
        "\n",
        "  img=np.expand_dims(img,axis=0)\n",
        "\n",
        "  prediction=saved_model.predict(img)\n",
        "  classes=['North_Indian','East_Indian','West_Indian','South_Indian']\n",
        "  predicted_class=classes[np.argmax(prediction)]\n",
        "\n",
        "  return predicted_class\n",
        "\n"
      ]
    },
    {
      "cell_type": "code",
      "execution_count": 30,
      "metadata": {
        "id": "xkGkoTILG6Lp",
        "colab": {
          "base_uri": "https://localhost:8080/"
        },
        "outputId": "e6b1398e-70c8-48da-c903-a72f1c19a303"
      },
      "outputs": [
        {
          "output_type": "stream",
          "name": "stdout",
          "text": [
            "1/1 [==============================] - 2s 2s/step\n",
            "South_Indian\n"
          ]
        }
      ],
      "source": [
        "saved_model=load_model('/content/drive/MyDrive/saved_model/classifier.h5')\n",
        "image_path='/content/drive/MyDrive/new.jfif'\n",
        "predicted_class=predict_image(image_path,saved_model)\n",
        "print(predicted_class)"
      ]
    }
  ],
  "metadata": {
    "accelerator": "GPU",
    "colab": {
      "gpuType": "T4",
      "provenance": []
    },
    "kernelspec": {
      "display_name": "Python 3",
      "name": "python3"
    },
    "language_info": {
      "name": "python"
    }
  },
  "nbformat": 4,
  "nbformat_minor": 0
}