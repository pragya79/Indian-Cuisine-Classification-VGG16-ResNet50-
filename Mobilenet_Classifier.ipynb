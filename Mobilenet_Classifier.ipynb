{
  "cells": [
    {
      "cell_type": "markdown",
      "metadata": {
        "id": "view-in-github",
        "colab_type": "text"
      },
      "source": [
        "<a href=\"https://colab.research.google.com/github/pragya79/Indian-Cuisine-Classification-VGG16-ResNet50-/blob/main/Mobilenet_Classifier.ipynb\" target=\"_parent\"><img src=\"https://colab.research.google.com/assets/colab-badge.svg\" alt=\"Open In Colab\"/></a>"
      ]
    },
    {
      "cell_type": "code",
      "execution_count": 1,
      "metadata": {
        "colab": {
          "base_uri": "https://localhost:8080/"
        },
        "id": "LvHnPqjgRuGG",
        "outputId": "b1303dba-8624-48ab-f96a-4ef0c6c0bf97"
      },
      "outputs": [
        {
          "output_type": "stream",
          "name": "stdout",
          "text": [
            "Mounted at /content/drive\n"
          ]
        }
      ],
      "source": [
        "from google.colab import drive\n",
        "drive.mount('/content/drive')"
      ]
    },
    {
      "cell_type": "code",
      "execution_count": 46,
      "metadata": {
        "id": "MjE-qDDtTtQL",
        "colab": {
          "base_uri": "https://localhost:8080/"
        },
        "outputId": "18188e05-e49c-4ba1-9f01-58f2a8308211"
      },
      "outputs": [
        {
          "output_type": "stream",
          "name": "stdout",
          "text": [
            "Wed Jul 24 05:35:02 2024       \n",
            "+---------------------------------------------------------------------------------------+\n",
            "| NVIDIA-SMI 535.104.05             Driver Version: 535.104.05   CUDA Version: 12.2     |\n",
            "|-----------------------------------------+----------------------+----------------------+\n",
            "| GPU  Name                 Persistence-M | Bus-Id        Disp.A | Volatile Uncorr. ECC |\n",
            "| Fan  Temp   Perf          Pwr:Usage/Cap |         Memory-Usage | GPU-Util  Compute M. |\n",
            "|                                         |                      |               MIG M. |\n",
            "|=========================================+======================+======================|\n",
            "|   0  Tesla T4                       Off | 00000000:00:04.0 Off |                    0 |\n",
            "| N/A   70C    P0              33W /  70W |   2173MiB / 15360MiB |      0%      Default |\n",
            "|                                         |                      |                  N/A |\n",
            "+-----------------------------------------+----------------------+----------------------+\n",
            "                                                                                         \n",
            "+---------------------------------------------------------------------------------------+\n",
            "| Processes:                                                                            |\n",
            "|  GPU   GI   CI        PID   Type   Process name                            GPU Memory |\n",
            "|        ID   ID                                                             Usage      |\n",
            "|=======================================================================================|\n",
            "+---------------------------------------------------------------------------------------+\n"
          ]
        }
      ],
      "source": [
        "!nvidia-smi"
      ]
    },
    {
      "cell_type": "code",
      "execution_count": 2,
      "metadata": {
        "id": "BHv5PZOIUo1r"
      },
      "outputs": [],
      "source": [
        "import os\n",
        "path='/content/drive/MyDrive/food_dataset'"
      ]
    },
    {
      "cell_type": "code",
      "execution_count": 20,
      "metadata": {
        "id": "ONAkYDbixk6r"
      },
      "outputs": [],
      "source": [
        "#removing the corrupted images\n",
        "from PIL import Image\n",
        "\n",
        "def check_images(directory):\n",
        "    for root, _, files in os.walk(directory):\n",
        "        for file in files:\n",
        "            file_path = os.path.join(root, file)\n",
        "            try:\n",
        "                img = Image.open(file_path)\n",
        "                img.verify()\n",
        "            except (IOError, SyntaxError) as e:\n",
        "                print(f\"Bad file: {file_path}\")\n",
        "                os.remove(file_path)\n",
        "\n",
        "dataset_path = '/content/drive/MyDrive/food_dataset'\n",
        "check_images(dataset_path)\n"
      ]
    },
    {
      "cell_type": "code",
      "execution_count": 21,
      "metadata": {
        "id": "pvplADtolL2z"
      },
      "outputs": [],
      "source": [
        "import tensorflow as tf\n",
        "from tensorflow import keras"
      ]
    },
    {
      "cell_type": "code",
      "execution_count": 4,
      "metadata": {
        "id": "gZPcd1n5lTsA"
      },
      "outputs": [],
      "source": [
        "from tensorflow.keras.preprocessing.image import ImageDataGenerator\n",
        "from tensorflow.keras.callbacks import ModelCheckpoint"
      ]
    },
    {
      "cell_type": "markdown",
      "metadata": {
        "id": "4w_JatlChLLS"
      },
      "source": [
        "**DATA AUGMENTATION**"
      ]
    },
    {
      "cell_type": "code",
      "execution_count": 5,
      "metadata": {
        "id": "EMS8saUZlkNt"
      },
      "outputs": [],
      "source": [
        "train_datagen = ImageDataGenerator(\n",
        "    rescale=1./255,\n",
        "    validation_split=0.3\n",
        ")"
      ]
    },
    {
      "cell_type": "code",
      "execution_count": 6,
      "metadata": {
        "colab": {
          "base_uri": "https://localhost:8080/"
        },
        "id": "nh793uqdmGF3",
        "outputId": "f9c94bad-45dc-48e3-8787-2445ef81a21d"
      },
      "outputs": [
        {
          "output_type": "stream",
          "name": "stdout",
          "text": [
            "Found 2694 images belonging to 20 classes.\n"
          ]
        }
      ],
      "source": [
        "train_gen=train_datagen.flow_from_directory(\n",
        "    path,\n",
        "    target_size=(224,224),\n",
        "    class_mode='sparse',\n",
        "    batch_size=32,\n",
        "    subset='training',\n",
        "    shuffle=True\n",
        ")"
      ]
    },
    {
      "cell_type": "code",
      "execution_count": 7,
      "metadata": {
        "colab": {
          "base_uri": "https://localhost:8080/"
        },
        "id": "xWTlrVUUmjaL",
        "outputId": "a8e2b478-754f-4c2b-d2ec-eea1d59827eb"
      },
      "outputs": [
        {
          "output_type": "stream",
          "name": "stdout",
          "text": [
            "Found 1144 images belonging to 20 classes.\n"
          ]
        }
      ],
      "source": [
        "validation_gen=train_datagen.flow_from_directory(\n",
        "    path,\n",
        "    target_size=(224,224),\n",
        "    class_mode='sparse',\n",
        "    batch_size=32,\n",
        "    subset='validation',\n",
        "    shuffle=True\n",
        ")"
      ]
    },
    {
      "cell_type": "code",
      "execution_count": 8,
      "metadata": {
        "colab": {
          "base_uri": "https://localhost:8080/"
        },
        "id": "eGsC6MLswdG7",
        "outputId": "50636790-e11d-4960-b37c-ac9f50debf86"
      },
      "outputs": [
        {
          "output_type": "stream",
          "name": "stdout",
          "text": [
            "{'Aloo Puri': 0, 'Bhindi Masala': 1, 'Chhole Bhature': 2, 'Dal Bati Churma': 3, 'Dal Makhni': 4, 'Dhokla': 5, 'Gulab Jamun': 6, 'Idli Sambhar': 7, 'Jalebi': 8, 'Kheer': 9, 'Mushroom': 10, 'Paneer': 11, 'Pav Bhaji': 12, 'Poha': 13, 'Rajma Chawal': 14, 'Rasgulla': 15, 'Rasmalai': 16, 'Sarson ka Saag Makki ki Roti': 17, 'Thepla': 18, 'Vada Pav': 19}\n",
            "{'Aloo Puri': 0, 'Bhindi Masala': 1, 'Chhole Bhature': 2, 'Dal Bati Churma': 3, 'Dal Makhni': 4, 'Dhokla': 5, 'Gulab Jamun': 6, 'Idli Sambhar': 7, 'Jalebi': 8, 'Kheer': 9, 'Mushroom': 10, 'Paneer': 11, 'Pav Bhaji': 12, 'Poha': 13, 'Rajma Chawal': 14, 'Rasgulla': 15, 'Rasmalai': 16, 'Sarson ka Saag Makki ki Roti': 17, 'Thepla': 18, 'Vada Pav': 19}\n"
          ]
        }
      ],
      "source": [
        "print(train_gen.class_indices)\n",
        "print(validation_gen.class_indices)\n"
      ]
    },
    {
      "cell_type": "markdown",
      "metadata": {
        "id": "bU_XAUOlMHKJ"
      },
      "source": [
        "OUTPUT SHAPES OF DATA GENERATORS"
      ]
    },
    {
      "cell_type": "code",
      "execution_count": null,
      "metadata": {
        "id": "E5HNkV7isq_6"
      },
      "outputs": [],
      "source": [
        "batch_x, batch_y = next(train_gen)\n",
        "print(f\"Shape of batch_x: {batch_x.shape}\")\n",
        "print(f\"Shape of batch_y: {batch_y.shape}\")"
      ]
    },
    {
      "cell_type": "code",
      "execution_count": 9,
      "metadata": {
        "id": "x-pnXtwNm2fe"
      },
      "outputs": [],
      "source": [
        "from tensorflow.keras import layers,models\n",
        "from tensorflow.keras.applications import ResNet50,MobileNetV2"
      ]
    },
    {
      "cell_type": "code",
      "execution_count": 10,
      "metadata": {
        "id": "o6VSU0pZoLyK",
        "colab": {
          "base_uri": "https://localhost:8080/"
        },
        "outputId": "7e47fd7f-6b5e-452a-87e5-43a922dc929f"
      },
      "outputs": [
        {
          "output_type": "stream",
          "name": "stdout",
          "text": [
            "Downloading data from https://storage.googleapis.com/tensorflow/keras-applications/mobilenet_v2/mobilenet_v2_weights_tf_dim_ordering_tf_kernels_1.0_224_no_top.h5\n",
            "9406464/9406464 [==============================] - 0s 0us/step\n"
          ]
        }
      ],
      "source": [
        "reference_model=MobileNetV2(weights='imagenet',include_top=False, input_shape=(224, 224, 3))"
      ]
    },
    {
      "cell_type": "markdown",
      "metadata": {
        "id": "2GAa5IP3qrUA"
      },
      "source": [
        "**Tranfer Learning**"
      ]
    },
    {
      "cell_type": "code",
      "execution_count": 11,
      "metadata": {
        "id": "2w4oxYmRkJFt"
      },
      "outputs": [],
      "source": [
        "# freezing the layers\n",
        "for layer in reference_model.layers:\n",
        "    layer.trainable=False"
      ]
    },
    {
      "cell_type": "code",
      "execution_count": 22,
      "metadata": {
        "id": "BsvN3tsOnY9d"
      },
      "outputs": [],
      "source": [
        "model = models.Sequential([\n",
        "    reference_model,\n",
        "    layers.Flatten(),\n",
        "    layers.BatchNormalization(),\n",
        "    layers.Dense(units=128,activation='relu'),\n",
        "    layers.BatchNormalization(),\n",
        "    layers.Dropout(0.2),\n",
        "    layers.Dense(units=20, activation='softmax')\n",
        "])"
      ]
    },
    {
      "cell_type": "code",
      "execution_count": 13,
      "metadata": {
        "id": "yBBd3V2hk-cp"
      },
      "outputs": [],
      "source": [
        "early_stopping=tf.keras.callbacks.EarlyStopping(monitor='val_loss',patience=5,restore_best_weights=True)"
      ]
    },
    {
      "cell_type": "code",
      "execution_count": 25,
      "metadata": {
        "id": "EQfkTlXQoh_c"
      },
      "outputs": [],
      "source": [
        "model.compile(\n",
        "    optimizer=tf.keras.optimizers.Adam(learning_rate=0.001),\n",
        "    loss='sparse_categorical_crossentropy',\n",
        "    metrics=['accuracy']\n",
        "\n",
        ")"
      ]
    },
    {
      "cell_type": "code",
      "execution_count": 26,
      "metadata": {
        "colab": {
          "base_uri": "https://localhost:8080/"
        },
        "id": "1ANqdjawEhsi",
        "outputId": "79d35581-905c-48d0-f3e3-0c5134c7107d"
      },
      "outputs": [
        {
          "output_type": "stream",
          "name": "stdout",
          "text": [
            "<keras.src.layers.activation.relu.ReLU object at 0x7c9e7027b460> False\n"
          ]
        }
      ],
      "source": [
        "print(layer,layer.trainable)"
      ]
    },
    {
      "cell_type": "markdown",
      "metadata": {
        "id": "_AUY-_4kq4PD"
      },
      "source": [
        "**Fine Tuning**"
      ]
    },
    {
      "cell_type": "code",
      "execution_count": null,
      "metadata": {
        "id": "yMOv7BsRq7Fh"
      },
      "outputs": [],
      "source": [
        "# Unfreezing some layers\n",
        "for layer in reference_model.layers[:]:  #last all layers are unfreezed now\n",
        "    layer.trainable = True\n",
        "\n",
        "model.compile(\n",
        "        tf.keras.optimizers.SGD(learning_rate=0.1,momentum=0.9),#taking lower learning_rate for fine tuning\n",
        "        loss='categorical_crossentropy',\n",
        "        metrics=['accuracy']\n",
        ")"
      ]
    },
    {
      "cell_type": "code",
      "execution_count": null,
      "metadata": {
        "id": "f0PQNQswsBA2"
      },
      "outputs": [],
      "source": [
        "print(layer,layer.trainable)"
      ]
    },
    {
      "cell_type": "code",
      "execution_count": null,
      "metadata": {
        "id": "xnRNZr-wNfPt"
      },
      "outputs": [],
      "source": [
        "# !pip install scikeras"
      ]
    },
    {
      "cell_type": "code",
      "execution_count": null,
      "metadata": {
        "id": "Ze14WxC3IFOE"
      },
      "outputs": [],
      "source": [
        "# from sklearn.model_selection import RandomizedSearchCV\n",
        "# from scikeras.wrappers import KerasClassifier\n",
        "\n",
        "# def model_creation(learning_rate=0.1, optimizer='adam', dropout_rate=0.3):\n",
        "#   model=models.Sequential([\n",
        "#       reference_model,\n",
        "#       layers.Flatten(),\n",
        "#       layers.BatchNormalization(),\n",
        "#       layers.Dense(units=256, activation='relu'),\n",
        "#       layers.BatchNormalization(),\n",
        "#       layers.Dropout(dropout_rate),\n",
        "#       layers.Dense(units=35, activation='softmax')\n",
        "#   ])\n",
        "#   if optimizer=='adam':\n",
        "#     optimizer=tf.keras.optimizers.Adam(learning_rate=learning_rate)\n",
        "#   else:\n",
        "#     optimizer=tf.keras.optimizers.SGD(learning_rate=learning_rate)\n",
        "\n",
        "#   model.compile(\n",
        "#       optimizer=optimizer,\n",
        "#       loss='categorical_crossentropy',\n",
        "#       metrics=['accuracy']\n",
        "#   )\n",
        "#   return model\n",
        "\n",
        "\n",
        "# classifier=KerasClassifier(build_fn=model_creation,verbose=1,batch_size=32,epochs=40)\n",
        "\n",
        "# param_dic = {\n",
        "#       'model__learning_rate': [0.0001, 0.001, 0.01,0.1],\n",
        "#       'model__optimizer': ['adam', 'sgd'],\n",
        "#       'model__dropout_rate': [0.3, 0.5, 0.7],\n",
        "#       'batch_size': [16,32, 64],\n",
        "#       'epochs': [20, 40],\n",
        "# }\n",
        "# randomCV_object=RandomizedSearchCV(\n",
        "#     estimator=classifier,\n",
        "#     param_distributions=param_dic,\n",
        "#     cv=5\n",
        "# )\n",
        "# randomCV_object.fit(train_gen,validation_gen)\n",
        "\n",
        "# print(f\"Best parameters: {randomCV_object.best_params_}\")\n",
        "# print(f\"Best score: {randomCV_object.best_score_}\")\n",
        "\n"
      ]
    },
    {
      "cell_type": "code",
      "execution_count": 16,
      "metadata": {
        "id": "OdGfJDKfqZym"
      },
      "outputs": [],
      "source": [
        "steps_per_epoch=train_gen.samples,\n",
        "validation_steps=validation_gen.samples"
      ]
    },
    {
      "cell_type": "code",
      "execution_count": 17,
      "metadata": {
        "id": "JLxgrHnyqhfA"
      },
      "outputs": [],
      "source": [
        "checkpoint_callback = ModelCheckpoint(\n",
        "    filepath='/content/drive/MyDrive/saved_model/model_epoch_{epoch:02d}.h5',\n",
        "    monitor='val_accuracy',\n",
        "    save_best_only=True,\n",
        "    save_freq='epoch',\n",
        ")"
      ]
    },
    {
      "cell_type": "code",
      "execution_count": 27,
      "metadata": {
        "colab": {
          "base_uri": "https://localhost:8080/"
        },
        "id": "L9b9XH3FpBDf",
        "outputId": "3ae2a39d-1690-47f1-d21b-45ae9f2ae8d0"
      },
      "outputs": [
        {
          "output_type": "stream",
          "name": "stdout",
          "text": [
            "Epoch 1/10\n",
            "30/85 [=========>....................] - ETA: 30s - loss: 1.6956 - accuracy: 0.5208"
          ]
        },
        {
          "output_type": "stream",
          "name": "stderr",
          "text": [
            "/usr/local/lib/python3.10/dist-packages/PIL/Image.py:996: UserWarning: Palette images with Transparency expressed in bytes should be converted to RGBA images\n",
            "  warnings.warn(\n"
          ]
        },
        {
          "output_type": "stream",
          "name": "stdout",
          "text": [
            "85/85 [==============================] - 83s 936ms/step - loss: 1.2460 - accuracy: 0.6422 - val_loss: 1.0757 - val_accuracy: 0.7273\n",
            "Epoch 2/10\n",
            "85/85 [==============================] - 69s 816ms/step - loss: 0.1729 - accuracy: 0.9774 - val_loss: 0.8590 - val_accuracy: 0.7552\n",
            "Epoch 3/10\n",
            "85/85 [==============================] - 69s 820ms/step - loss: 0.0577 - accuracy: 0.9978 - val_loss: 0.8410 - val_accuracy: 0.7552\n",
            "Epoch 4/10\n",
            "85/85 [==============================] - 70s 822ms/step - loss: 0.0266 - accuracy: 0.9993 - val_loss: 0.8282 - val_accuracy: 0.7657\n",
            "Epoch 5/10\n",
            "85/85 [==============================] - 68s 806ms/step - loss: 0.0185 - accuracy: 0.9996 - val_loss: 0.8367 - val_accuracy: 0.7649\n",
            "Epoch 6/10\n",
            "85/85 [==============================] - 70s 825ms/step - loss: 0.0109 - accuracy: 0.9996 - val_loss: 0.8370 - val_accuracy: 0.7649\n",
            "Epoch 7/10\n",
            "85/85 [==============================] - 70s 827ms/step - loss: 0.0106 - accuracy: 0.9996 - val_loss: 0.8666 - val_accuracy: 0.7605\n",
            "Epoch 8/10\n",
            "85/85 [==============================] - 70s 828ms/step - loss: 0.0095 - accuracy: 0.9996 - val_loss: 0.8606 - val_accuracy: 0.7561\n",
            "Epoch 9/10\n",
            "85/85 [==============================] - 68s 800ms/step - loss: 0.0052 - accuracy: 1.0000 - val_loss: 0.8555 - val_accuracy: 0.7570\n",
            "Epoch 10/10\n",
            "85/85 [==============================] - 68s 808ms/step - loss: 0.0072 - accuracy: 1.0000 - val_loss: 0.8684 - val_accuracy: 0.7579\n"
          ]
        }
      ],
      "source": [
        "trained_model=model.fit(\n",
        "    train_gen,\n",
        "    epochs=10,\n",
        "    validation_data=validation_gen,\n",
        "    # steps_per_epoch=len(train_gen),\n",
        "    # validation_steps=len(validation_gen),\n",
        "    # callbacks=[checkpoint_callback]\n",
        ")"
      ]
    },
    {
      "cell_type": "markdown",
      "metadata": {
        "id": "223iPqNnBSgb"
      },
      "source": [
        "**Saving the Model as .h5 file**"
      ]
    },
    {
      "cell_type": "code",
      "execution_count": 29,
      "metadata": {
        "id": "MISZonvS8fDS"
      },
      "outputs": [],
      "source": [
        "saved_model=model.save('/content/drive/MyDrive/saved_model/final.keras')"
      ]
    },
    {
      "cell_type": "code",
      "execution_count": 30,
      "metadata": {
        "id": "ZTDe-4cBslUK"
      },
      "outputs": [],
      "source": [
        "from keras.models import load_model\n",
        "model = load_model('/content/drive/MyDrive/saved_model/final.keras')"
      ]
    },
    {
      "cell_type": "code",
      "execution_count": null,
      "metadata": {
        "id": "2x5YxhMs4RJX"
      },
      "outputs": [],
      "source": [
        "# model.fit(\n",
        "#     train_gen,\n",
        "#     epochs=20,\n",
        "#     validation_data=validation_gen,\n",
        "#     steps_per_epoch=len(train_gen),\n",
        "#     validation_steps=len(validation_gen),\n",
        "#     callbacks=[early_stopping]\n",
        "# )"
      ]
    },
    {
      "cell_type": "code",
      "execution_count": 31,
      "metadata": {
        "id": "yogzlMq7nDfg",
        "colab": {
          "base_uri": "https://localhost:8080/"
        },
        "outputId": "c6bee028-09c6-443c-ed27-b9056c9aeb68"
      },
      "outputs": [
        {
          "output_type": "stream",
          "name": "stdout",
          "text": [
            "Model: \"sequential_1\"\n",
            "_________________________________________________________________\n",
            " Layer (type)                Output Shape              Param #   \n",
            "=================================================================\n",
            " mobilenetv2_1.00_224 (Func  (None, 7, 7, 1280)        2257984   \n",
            " tional)                                                         \n",
            "                                                                 \n",
            " flatten_1 (Flatten)         (None, 62720)             0         \n",
            "                                                                 \n",
            " batch_normalization_2 (Bat  (None, 62720)             250880    \n",
            " chNormalization)                                                \n",
            "                                                                 \n",
            " dense_2 (Dense)             (None, 128)               8028288   \n",
            "                                                                 \n",
            " batch_normalization_3 (Bat  (None, 128)               512       \n",
            " chNormalization)                                                \n",
            "                                                                 \n",
            " dropout_1 (Dropout)         (None, 128)               0         \n",
            "                                                                 \n",
            " dense_3 (Dense)             (None, 20)                2580      \n",
            "                                                                 \n",
            "=================================================================\n",
            "Total params: 10540244 (40.21 MB)\n",
            "Trainable params: 8156564 (31.11 MB)\n",
            "Non-trainable params: 2383680 (9.09 MB)\n",
            "_________________________________________________________________\n"
          ]
        }
      ],
      "source": [
        "model.summary()"
      ]
    },
    {
      "cell_type": "code",
      "execution_count": 32,
      "metadata": {
        "id": "SFIXm9At4dRm",
        "colab": {
          "base_uri": "https://localhost:8080/"
        },
        "outputId": "4fe65779-463d-4017-e5ad-5e7666bbdf1b"
      },
      "outputs": [
        {
          "output_type": "stream",
          "name": "stdout",
          "text": [
            "36/36 [==============================] - 21s 566ms/step\n"
          ]
        }
      ],
      "source": [
        "y_predict=model.predict(validation_gen)"
      ]
    },
    {
      "cell_type": "code",
      "execution_count": 33,
      "metadata": {
        "id": "K8fZLDV74rhl",
        "colab": {
          "base_uri": "https://localhost:8080/"
        },
        "outputId": "f697278f-7e61-4f74-ac6c-8a9a7bc54334"
      },
      "outputs": [
        {
          "output_type": "stream",
          "name": "stdout",
          "text": [
            "36/36 [==============================] - 28s 757ms/step - loss: 0.8684 - accuracy: 0.7579\n"
          ]
        },
        {
          "output_type": "execute_result",
          "data": {
            "text/plain": [
              "[0.8683524131774902, 0.757867157459259]"
            ]
          },
          "metadata": {},
          "execution_count": 33
        }
      ],
      "source": [
        "model.evaluate(validation_gen)"
      ]
    },
    {
      "cell_type": "code",
      "execution_count": 34,
      "metadata": {
        "id": "ajqLlw0a4xH9",
        "colab": {
          "base_uri": "https://localhost:8080/"
        },
        "outputId": "5dba82ea-8c4f-4ac4-e3e3-e7986f875780"
      },
      "outputs": [
        {
          "output_type": "stream",
          "name": "stdout",
          "text": [
            "              precision    recall  f1-score   support\n",
            "\n",
            "           0       0.03      0.02      0.03        46\n",
            "           1       0.06      0.07      0.06        72\n",
            "           2       0.07      0.08      0.07        79\n",
            "           3       0.08      0.08      0.08        91\n",
            "           4       0.08      0.07      0.07        46\n",
            "           5       0.09      0.09      0.09        97\n",
            "           6       0.04      0.04      0.04        51\n",
            "           7       0.07      0.07      0.07        90\n",
            "           8       0.02      0.03      0.02        77\n",
            "           9       0.05      0.05      0.05        60\n",
            "          10       0.03      0.02      0.02        63\n",
            "          11       0.09      0.12      0.10       100\n",
            "          12       0.00      0.00      0.00        12\n",
            "          13       0.00      0.00      0.00         4\n",
            "          14       0.09      0.09      0.09        91\n",
            "          16       0.00      0.00      0.00         1\n",
            "          17       0.06      0.06      0.06        90\n",
            "          18       0.08      0.08      0.08        74\n",
            "\n",
            "    accuracy                           0.07      1144\n",
            "   macro avg       0.05      0.05      0.05      1144\n",
            "weighted avg       0.06      0.07      0.06      1144\n",
            "\n"
          ]
        },
        {
          "output_type": "stream",
          "name": "stderr",
          "text": [
            "/usr/local/lib/python3.10/dist-packages/sklearn/metrics/_classification.py:1344: UndefinedMetricWarning: Precision and F-score are ill-defined and being set to 0.0 in labels with no predicted samples. Use `zero_division` parameter to control this behavior.\n",
            "  _warn_prf(average, modifier, msg_start, len(result))\n",
            "/usr/local/lib/python3.10/dist-packages/sklearn/metrics/_classification.py:1344: UndefinedMetricWarning: Precision and F-score are ill-defined and being set to 0.0 in labels with no predicted samples. Use `zero_division` parameter to control this behavior.\n",
            "  _warn_prf(average, modifier, msg_start, len(result))\n",
            "/usr/local/lib/python3.10/dist-packages/sklearn/metrics/_classification.py:1344: UndefinedMetricWarning: Precision and F-score are ill-defined and being set to 0.0 in labels with no predicted samples. Use `zero_division` parameter to control this behavior.\n",
            "  _warn_prf(average, modifier, msg_start, len(result))\n"
          ]
        }
      ],
      "source": [
        "from sklearn.metrics import classification_report\n",
        "y_true=validation_gen.classes #20 classes\n",
        "print(classification_report(y_true,y_predict.argmax(axis=1)))"
      ]
    },
    {
      "cell_type": "code",
      "execution_count": 35,
      "metadata": {
        "id": "Qwu9JTDluSK8"
      },
      "outputs": [],
      "source": [
        "import matplotlib.pyplot as plt"
      ]
    },
    {
      "cell_type": "code",
      "execution_count": 39,
      "metadata": {
        "id": "So52oFW05Fpm"
      },
      "outputs": [],
      "source": [
        "training_loss=trained_model.history['loss']\n",
        "test_loss=trained_model.history['val_loss']#loss on validation dataset\n",
        "training_acc=trained_model.history['accuracy']#accuracy on training dataset\n",
        "test_acc=trained_model.history['val_accuracy']#accuracy on validation dataset\n",
        "epochs=range(len(training_loss))"
      ]
    },
    {
      "cell_type": "code",
      "execution_count": 41,
      "metadata": {
        "id": "Zd89UfUUAHTB",
        "colab": {
          "base_uri": "https://localhost:8080/",
          "height": 472
        },
        "outputId": "32b24eb2-1ea6-4441-9c21-6b77c9685de7"
      },
      "outputs": [
        {
          "output_type": "display_data",
          "data": {
            "text/plain": [
              "<Figure size 640x480 with 1 Axes>"
            ],
            "image/png": "[encoded data removed]"
          },
          "metadata": {}
        }
      ],
      "source": [
        "#ploting epoch vs training_loss & epoch vs test_loss graph\n",
        "\n",
        "plt.title('loss vs epoch')\n",
        "plt.xlabel('epochs')\n",
        "plt.ylabel('loss')\n",
        "plt.plot(epochs,training_loss,label='training_loss')\n",
        "plt.plot(epochs,test_loss,label='test_loss')\n",
        "plt.legend()\n",
        "plt.show()\n"
      ]
    },
    {
      "cell_type": "code",
      "execution_count": 43,
      "metadata": {
        "id": "gkm_PPDcBoez",
        "colab": {
          "base_uri": "https://localhost:8080/",
          "height": 472
        },
        "outputId": "030b4f02-9d0f-4072-e1e5-4fe0150de2a4"
      },
      "outputs": [
        {
          "output_type": "display_data",
          "data": {
            "text/plain": [
              "<Figure size 640x480 with 1 Axes>"
            ],
            "image/png": "[encoded data removed]"
          },
          "metadata": {}
        }
      ],
      "source": [
        "#ploting epoch vs tarining_acc & epoch vs test_acc graph\n",
        "plt.title('Accuracy vs epoch')\n",
        "plt.xlabel('epochs')\n",
        "plt.ylabel('accuracy')\n",
        "plt.plot(epochs,training_acc,label='training_acc')\n",
        "plt.plot(epochs,test_acc,label='test_acc')\n",
        "plt.legend()\n",
        "plt.show()"
      ]
    },
    {
      "cell_type": "markdown",
      "metadata": {
        "id": "fF8_VBcpFwYN"
      },
      "source": [
        "Using the Saved model to predict new images as one of the classes"
      ]
    },
    {
      "cell_type": "code",
      "execution_count": 44,
      "metadata": {
        "id": "68wi25E6F3Ue"
      },
      "outputs": [],
      "source": [
        "from keras.preprocessing import image\n",
        "from keras.models import load_model\n",
        "import numpy as np\n",
        "#function to predict images\n",
        "def predict_image(image_path,saved_model):\n",
        "  img=image.load_img(image_path,target_size=(224,224))\n",
        "  img=image.img_to_array(img)\n",
        "  img=img/255.0\n",
        "\n",
        "  img=np.expand_dims(img,axis=0)\n",
        "\n",
        "  prediction=saved_model.predict(img)\n",
        "  classes = ['Aloo Puri', 'Bhindi Masala', 'Chhole Bhature', 'Dal Bati Churma', 'Dal Makhni', 'Dhokla', 'Gulab Jamun', 'Idli Sambhar', 'Jalebi', 'Kheer', 'Mushroom', 'Paneer', 'Pav Bhaji', 'Poha', 'Rajma Chawal', 'Rasgulla', 'Rasmalai', 'Sarson ka Saag Makki ki Roti', 'Thepla', 'Vada Pav']\n",
        "\n",
        "  predicted_class=classes[np.argmax(prediction)]\n",
        "\n",
        "  return predicted_class\n",
        "\n"
      ]
    },
    {
      "cell_type": "code",
      "execution_count": 45,
      "metadata": {
        "id": "xkGkoTILG6Lp",
        "colab": {
          "base_uri": "https://localhost:8080/"
        },
        "outputId": "f857d964-57bd-480b-901c-4996ef609a22"
      },
      "outputs": [
        {
          "output_type": "stream",
          "name": "stdout",
          "text": [
            "1/1 [==============================] - 1s 1s/step\n",
            "Jalebi\n"
          ]
        }
      ],
      "source": [
        "saved_model=load_model('/content/drive/MyDrive/saved_model/final.keras')\n",
        "image_path='/content/drive/MyDrive/new.jfif'\n",
        "predicted_class=predict_image(image_path,saved_model)\n",
        "print(predicted_class)"
      ]
    },
    {
      "cell_type": "code",
      "execution_count": null,
      "metadata": {
        "id": "NJys1raE1jWa"
      },
      "outputs": [],
      "source": []
    }
  ],
  "metadata": {
    "accelerator": "GPU",
    "colab": {
      "gpuType": "T4",
      "provenance": [],
      "mount_file_id": "1zKxVRj7aDFfb0q__3pQl2ohzVsxwBbcQ",
      "authorship_tag": "ABX9TyMa5pb3yzQI+8883pnVU+TL",
      "include_colab_link": true
    },
    "kernelspec": {
      "display_name": "Python 3",
      "name": "python3"
    },
    "language_info": {
      "name": "python"
    }
  },
  "nbformat": 4,
  "nbformat_minor": 0
}